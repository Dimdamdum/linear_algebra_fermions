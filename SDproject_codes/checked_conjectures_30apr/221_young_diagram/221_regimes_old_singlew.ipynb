{
 "cells": [
  {
   "cell_type": "code",
   "execution_count": 2,
   "id": "0eb6c94d",
   "metadata": {},
   "outputs": [],
   "source": [
    "import numpy as np\n",
    "from scipy.stats import unitary_group\n",
    "from numpy import linalg as LA\n",
    "from scipy.linalg import block_diag\n",
    "from scipy.linalg import logm, expm\n",
    "import qiskit"
   ]
  },
  {
   "cell_type": "code",
   "execution_count": 3,
   "id": "77f80c1a",
   "metadata": {},
   "outputs": [],
   "source": [
    "#functions\n",
    "def h(x):\n",
    "    return -x*np.log(x)-(1-x)*np.log(1-x)\n",
    "def H(v):\n",
    "    summ=0\n",
    "    for j in range(5):\n",
    "        summ=summ+h(v[j])\n",
    "    return summ\n",
    "\n",
    "#the following functions Hj refer to the jth regime/jth schur horn procedure\n",
    "\n",
    "#def H1(w):\n",
    "#    v=...\n",
    "#    return H(v)\n",
    "def H2(w):\n",
    "    appo=(w[0]+w[3]+w[4])/3\n",
    "    appo2=(w[1]+w[2])/2\n",
    "    v=np.array([appo,appo,appo,appo2,appo2])\n",
    "    return H(v)\n",
    "def H3(w):\n",
    "    appo=(w[0]+w[1]+w[4])/3\n",
    "    appo2=(w[2]+w[3])/2\n",
    "    v=np.array([appo,appo,appo,appo2,appo2])\n",
    "    return H(v)\n",
    "def H4(w):\n",
    "    appo=(w[0]+w[2]+w[4])/3\n",
    "    appo2=(w[1]+w[3])/2\n",
    "    v=np.array([appo,appo,appo,appo2,appo2])\n",
    "    return H(v)\n",
    "\n",
    "\n",
    "\n",
    "def Hmax(w):\n",
    "    return max([H2(w),H3(w),H4(w)])\n",
    "    "
   ]
  },
  {
   "cell_type": "code",
   "execution_count": 4,
   "id": "e15fb5ba",
   "metadata": {
    "scrolled": true
   },
   "outputs": [
    {
     "name": "stdout",
     "output_type": "stream",
     "text": [
      "[0.00745872 0.40389359 0.54935741 0.89222038 0.93392882]\n",
      "Difference from bound: 5*h(t/5) - Imax(w) =  0.013493286704004959 \n",
      "\n",
      "Imax =  3.4192547906436572\n",
      "[0.40131235 0.49569489 0.74771008 0.79199626 0.9216095 ]\n",
      "Could be 4th regime. H4(w) - Imax(w) =  0.00168141030503266\n",
      "Difference from bound: 5*h(t/5) - Imax(w) =  0.0075059965969788145 \n",
      "\n",
      "Imax =  3.157461541205627\n",
      "[0.16324498 0.23936929 0.2894876  0.89850136 0.97181316]\n",
      "Could be 4th regime. H4(w) - Imax(w) =  0.013425827358872766\n",
      "Difference from bound: 5*h(t/5) - Imax(w) =  0.034733506531760217 \n",
      "\n",
      "Imax =  3.429443911951802\n",
      "[0.09317086 0.42803921 0.55498112 0.57500366 0.82764667]\n",
      "Could be 2nd regime. H2(w) - Imax(w) =  0.007885673684549843\n",
      "Could be 4th regime. H4(w) - Imax(w) =  0.00778589203537372\n",
      "Difference from bound: 5*h(t/5) - Imax(w) =  0.008006563702766645 \n",
      "\n",
      "Imax =  3.4575502642584537\n",
      "[0.28481053 0.37901707 0.63685042 0.70945544 0.72763775]\n",
      "Could be 2nd regime. H2(w) - Imax(w) =  0.0002918336238226793\n",
      "Could be 4th regime. H4(w) - Imax(w) =  0.010769597004977705\n",
      "Difference from bound: 5*h(t/5) - Imax(w) =  0.010843650436149765 \n",
      "\n",
      "Imax =  3.4322439743442503\n",
      "[0.53503894 0.57538931 0.59842995 0.66935127 0.70065079]\n",
      "Could be 4th regime. H4(w) - Imax(w) =  0.0009095303151207546\n",
      "Difference from bound: 5*h(t/5) - Imax(w) =  0.0012164465182413764 \n",
      "\n",
      "Imax =  3.3292636956938617\n",
      "[0.19385789 0.20466614 0.25053271 0.6405447  0.74022991]\n",
      "Could be 3th regime. H3(w) - Imax(w) =  0.0020140247638686937\n",
      "Could be 4th regime. H4(w) - Imax(w) =  0.010898823541951597\n",
      "Difference from bound: 5*h(t/5) - Imax(w) =  0.012809806527720013 \n",
      "\n",
      "Imax =  3.363973907627054\n",
      "[0.16925371 0.19672778 0.2510202  0.54240252 0.95890866]\n",
      "Could be 3th regime. H3(w) - Imax(w) =  0.020634758259348907\n",
      "Could be 4th regime. H4(w) - Imax(w) =  0.0055182773799584695\n",
      "Difference from bound: 5*h(t/5) - Imax(w) =  0.02560418589196667 \n",
      "\n",
      "Imax =  3.3816291620095464\n",
      "[0.1907904  0.4364132  0.51228184 0.67299335 0.7794121 ]\n",
      "Difference from bound: 5*h(t/5) - Imax(w) =  0.007401565474430605 \n",
      "\n",
      "Imax =  3.4549560022402837\n",
      "[0.13660693 0.27796593 0.46768545 0.91710865 0.93839579]\n",
      "Difference from bound: 5*h(t/5) - Imax(w) =  0.016827320049538574 \n",
      "\n",
      "Imax =  3.426261920451003\n"
     ]
    }
   ],
   "source": [
    "#sampling\n",
    "#number of w's\n",
    "n=10\n",
    "#number of unitaries per w\n",
    "m=10000\n",
    "\n",
    "found=0\n",
    "\n",
    "for j in range(n):\n",
    "    #random w\n",
    "    ww=np.array([np.random.rand(),np.random.rand(),np.random.rand(),np.random.rand(),np.random.rand()])\n",
    "    w=np.sort(ww)\n",
    "    gamma0=np.diag(w)\n",
    "    #v=np.array([0,0,0,0,0])\n",
    "    t=sum(w)\n",
    "    Imax=0\n",
    "    Inew=0\n",
    "    #sample some unitaries\n",
    "    for k in range(m):\n",
    "        U=unitary_group.rvs(5)\n",
    "        Udag=np.transpose(np.conjugate(U))\n",
    "        gamma=np.matmul(U,np.matmul(gamma0,Udag))\n",
    "        #print(gamma.round(2))\n",
    "        block1=gamma[0:2,0:2]\n",
    "        block2=gamma[2:4,2:4]\n",
    "        block1ev=LA.eigvals(block1)\n",
    "        block2ev=LA.eigvals(block2)\n",
    "        v=np.array([block1ev[0].real,block1ev[1].real,block2ev[0].real,block2ev[1].real,gamma[4][4].real])\n",
    "        #v[0]=block1ev[0].real\n",
    "        #v[1]=block1ev[1].real\n",
    "        #v[2]=block2ev[0].real\n",
    "        #v[3]=block2ev[1].real\n",
    "        #v[4]=gamma[4][4].real\n",
    "        #print(v)\n",
    "        Inew=H(v)\n",
    "        if Inew>Imax:\n",
    "        #for j in range(4):\n",
    "        #    vbest[j]=v[j]\n",
    "            Imax=Inew\n",
    "    print(w)\n",
    "    if H2(w)>Imax:\n",
    "        print(\"Could be 2nd regime. H2(w) - Imax(w) = \", H2(w)-Imax)\n",
    "    if H3(w)>Imax:\n",
    "        print(\"Could be 3th regime. H3(w) - Imax(w) = \", H3(w)-Imax)\n",
    "    if H4(w)>Imax:\n",
    "        print(\"Could be 4th regime. H4(w) - Imax(w) = \", H4(w)-Imax)\n",
    "    #if H5(w)>Imax:\n",
    "    #    print(\"Could be 5th regime. H5(w) - Imax(w) = \", H5(w)>Imax)\n",
    "    print(\"Difference from bound: 5*h(t/5) - Imax(w) = \", 5*h(t/5)-Imax,\"\\n\")\n",
    "    print(\"Imax = \", Imax)\n"
   ]
  },
  {
   "cell_type": "code",
   "execution_count": 5,
   "id": "ead7f8cb",
   "metadata": {},
   "outputs": [
    {
     "data": {
      "text/plain": [
       "3.393317104908718"
      ]
     },
     "execution_count": 5,
     "metadata": {},
     "output_type": "execute_result"
    }
   ],
   "source": [
    "H4([0.07604938, 0.39527362, 0.68688096, 0.79238033, 0.97215315])"
   ]
  },
  {
   "cell_type": "code",
   "execution_count": 6,
   "id": "5bcc6bd4",
   "metadata": {},
   "outputs": [
    {
     "data": {
      "text/plain": [
       "3.3939085161436013"
      ]
     },
     "execution_count": 6,
     "metadata": {},
     "output_type": "execute_result"
    }
   ],
   "source": [
    "t=sum([0.07604938, 0.39527362, 0.68688096, 0.79238033, 0.97215315])\n",
    "5*h(t/5)"
   ]
  },
  {
   "cell_type": "code",
   "execution_count": 55,
   "id": "53c9d586",
   "metadata": {},
   "outputs": [
    {
     "data": {
      "text/plain": [
       "3.366283322157992"
      ]
     },
     "execution_count": 55,
     "metadata": {},
     "output_type": "execute_result"
    }
   ],
   "source": [
    "h(0.68688096)+4*h(sum([0.07604938, 0.39527362, 0.79238033, 0.97215315])/4)"
   ]
  },
  {
   "cell_type": "code",
   "execution_count": null,
   "id": "02cf49b4",
   "metadata": {},
   "outputs": [],
   "source": []
  }
 ],
 "metadata": {
  "kernelspec": {
   "display_name": "Python 3 (ipykernel)",
   "language": "python",
   "name": "python3"
  },
  "language_info": {
   "codemirror_mode": {
    "name": "ipython",
    "version": 3
   },
   "file_extension": ".py",
   "mimetype": "text/x-python",
   "name": "python",
   "nbconvert_exporter": "python",
   "pygments_lexer": "ipython3",
   "version": "3.10.5"
  }
 },
 "nbformat": 4,
 "nbformat_minor": 5
}
