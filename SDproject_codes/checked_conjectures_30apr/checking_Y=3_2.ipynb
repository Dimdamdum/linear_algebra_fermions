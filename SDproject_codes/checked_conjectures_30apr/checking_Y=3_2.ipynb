{
 "cells": [
  {
   "cell_type": "code",
   "execution_count": 1,
   "id": "b535faa8-ab48-4169-b7df-c542af11394b",
   "metadata": {},
   "outputs": [],
   "source": [
    "import numpy as np\n",
    "from scipy.stats import unitary_group\n",
    "from numpy import linalg as LA\n",
    "from scipy.linalg import block_diag\n",
    "from scipy.linalg import logm, expm\n",
    "import qiskit"
   ]
  },
  {
   "cell_type": "code",
   "execution_count": 2,
   "id": "47c208a7-993c-48bf-a2a6-053f4f555870",
   "metadata": {},
   "outputs": [],
   "source": [
    "#parameters and functions\n",
    "\n",
    "d=5\n",
    "\n",
    "def vvector(w,U):\n",
    "    gamma0=np.diag(w)\n",
    "    Udag=np.conjugate(U.T)\n",
    "    gamma=np.matmul(U,np.matmul(gamma0,Udag))\n",
    "    block1=gamma[0:3,0:3]\n",
    "    block2=gamma[3:5,3:5]\n",
    "    block1ev=LA.eigvals(block1)\n",
    "    block2ev=LA.eigvals(block2)\n",
    "    v=np.array([block1ev[0].real,block1ev[1].real,block1ev[2].real,block2ev[0].real,block2ev[1].real])\n",
    "    return(v)\n",
    "\n",
    "def conjvvector(w):\n",
    "    word = np.sort(w)\n",
    "    appo = (word[0]+word[4])/2\n",
    "    eppo = (word[1]+word[3])/2\n",
    "    v = np.array([appo,appo,eppo,eppo,word[2]])\n",
    "    return(v)\n",
    "\n",
    "def firstmajorizessecond(a,b):\n",
    "    d=len(a)\n",
    "    delta = np.absolute(sum(a)-sum(b))\n",
    "    if delta>1e-10:\n",
    "        print(\"comparing two vectors with different trace, diff = \",delta)\n",
    "        return(False)\n",
    "    aord=np.sort(a)[::-1]\n",
    "    bord=np.sort(b)[::-1]\n",
    "    acum = np.cumsum(aord)\n",
    "    bcum = np.cumsum(bord)\n",
    "    diff=acum-bcum\n",
    "    diff[d-1]=0. #to avoid numerical errors\n",
    "    if np.all(diff>=0):\n",
    "        return(True)\n",
    "    return(False)\n",
    "\n",
    "def h(xx):\n",
    "    x=np.real(xx)\n",
    "    return -x*np.log2(x)-(1-x)*np.log2(1-x)\n",
    "\n",
    "def H(v):\n",
    "    summ=0\n",
    "    d=len(v)\n",
    "    for j in range(d):\n",
    "        summ=summ+h(v[j])\n",
    "    return summ"
   ]
  },
  {
   "cell_type": "code",
   "execution_count": 3,
   "id": "58d1c6d0-98dd-44a9-8e53-0ec922f47d54",
   "metadata": {},
   "outputs": [],
   "source": [
    "#define a w that you like\n",
    "w=np.random.rand(d)\n",
    "w=np.array([0.1,0.11,0.12,0.4,0.8])  "
   ]
  },
  {
   "cell_type": "code",
   "execution_count": 17,
   "id": "5a0ef7a4-1820-41e1-a02b-5684111afdcd",
   "metadata": {},
   "outputs": [],
   "source": [
    "#code\n",
    "\n",
    "countmax=2000000\n",
    "count=0\n",
    "eps=0.000005\n",
    "\n",
    "U=np.identity(d,dtype=complex)\n",
    "v=np.zeros(d)\n",
    "conjv=np.zeros(d)\n",
    "deltaH=0.\n",
    "\n",
    "while(count<countmax):\n",
    "    count=count+1\n",
    "    w=np.random.rand(d) #if you want to keep changing w\n",
    "    U=unitary_group.rvs(d)\n",
    "    v=vvector(w,U)\n",
    "    conjv=conjvvector(w)\n",
    "    if(firstmajorizessecond(v,conjv)==False):\n",
    "        print(\"a conjv does not majorize a corresponding v!\")\n",
    "    deltaH = H(conjv)-H(v)    \n",
    "    if(deltaH <= 0):\n",
    "        print(\"H(v) > H(vconj)!!!\")\n",
    "    if(deltaH <= eps):\n",
    "        print(\"H(vconj) - H(v) = \", deltaH)\n",
    "        print(\"vconj:\", np.sort(conjv))\n",
    "        print(\"v:\", np.sort(v))"
   ]
  },
  {
   "cell_type": "code",
   "execution_count": null,
   "id": "b17fdd6f-52e6-4f2b-87b1-503e821bfb1d",
   "metadata": {},
   "outputs": [],
   "source": []
  }
 ],
 "metadata": {
  "kernelspec": {
   "display_name": "Python 3 (ipykernel)",
   "language": "python",
   "name": "python3"
  },
  "language_info": {
   "codemirror_mode": {
    "name": "ipython",
    "version": 3
   },
   "file_extension": ".py",
   "mimetype": "text/x-python",
   "name": "python",
   "nbconvert_exporter": "python",
   "pygments_lexer": "ipython3",
   "version": "3.10.5"
  }
 },
 "nbformat": 4,
 "nbformat_minor": 5
}
