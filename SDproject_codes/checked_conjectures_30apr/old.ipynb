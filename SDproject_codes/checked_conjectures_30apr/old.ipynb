{
 "cells": [
  {
   "cell_type": "code",
   "execution_count": 4,
   "id": "b09d4595-4a1d-403d-90f4-e51b1e2d1d12",
   "metadata": {},
   "outputs": [],
   "source": [
    "import numpy as np\n",
    "from scipy.stats import unitary_group\n",
    "from numpy import linalg as LA\n",
    "from scipy.linalg import block_diag\n",
    "from scipy.linalg import logm, expm\n",
    "import qiskit\n",
    "#functions\n",
    "def h(xx):\n",
    "    x=np.real(xx)\n",
    "    return -x*np.log2(x)-(1-x)*np.log2(1-x)\n",
    "def H(v):\n",
    "    summ=0\n",
    "    d=len(v)\n",
    "    for j in range(d):\n",
    "        summ=summ+h(v[j])\n",
    "    return summ"
   ]
  },
  {
   "cell_type": "code",
   "execution_count": 21,
   "id": "2ea31377-8bdb-4db9-95e4-a56d0eadad3a",
   "metadata": {},
   "outputs": [
    {
     "name": "stdout",
     "output_type": "stream",
     "text": [
      "unknown regime\n",
      "unknown regime\n",
      "unknown regime\n",
      "unknown regime\n",
      "1st regime\n",
      "unknown regime\n",
      "unknown regime\n",
      "unknown regime\n",
      "1st regime\n",
      "unknown regime\n",
      "unknown regime\n",
      "unknown regime\n",
      "unknown regime\n",
      "unknown regime\n",
      "1st regime\n",
      "unknown regime\n",
      "unknown regime\n",
      "unknown regime\n",
      "unknown regime\n",
      "unknown regime\n",
      "unknown regime\n",
      "unknown regime\n",
      "unknown regime\n",
      "2nd regime\n",
      "unknown regime\n",
      "unknown regime\n",
      "2nd regime\n",
      "unknown regime\n",
      "unknown regime\n",
      "unknown regime\n",
      "unknown regime\n",
      "unknown regime\n",
      "1st regime\n",
      "unknown regime\n",
      "2nd regime\n",
      "1st regime\n",
      "unknown regime\n",
      "unknown regime\n",
      "unknown regime\n",
      "unknown regime\n",
      "unknown regime\n",
      "1st regime\n",
      "unknown regime\n",
      "unknown regime\n",
      "unknown regime\n",
      "unknown regime\n",
      "unknown regime\n",
      "2nd regime\n",
      "2nd regime\n",
      "1st regime\n",
      "unknown regime\n",
      "2nd regime\n",
      "2nd regime\n",
      "unknown regime\n",
      "unknown regime\n",
      "unknown regime\n",
      "2nd regime\n",
      "unknown regime\n",
      "unknown regime\n",
      "unknown regime\n",
      "unknown regime\n",
      "unknown regime\n",
      "unknown regime\n",
      "unknown regime\n",
      "unknown regime\n",
      "1st regime\n",
      "unknown regime\n",
      "unknown regime\n",
      "unknown regime\n",
      "unknown regime\n",
      "unknown regime\n",
      "unknown regime\n",
      "unknown regime\n",
      "unknown regime\n",
      "unknown regime\n",
      "unknown regime\n",
      "unknown regime\n",
      "unknown regime\n",
      "unknown regime\n",
      "unknown regime\n",
      "1st regime\n",
      "unknown regime\n",
      "unknown regime\n",
      "unknown regime\n",
      "unknown regime\n",
      "unknown regime\n",
      "2nd regime\n",
      "unknown regime\n",
      "unknown regime\n",
      "unknown regime\n",
      "2nd regime\n",
      "unknown regime\n",
      "unknown regime\n",
      "1st regime\n",
      "unknown regime\n",
      "unknown regime\n",
      "unknown regime\n",
      "1st regime\n",
      "unknown regime\n",
      "unknown regime\n"
     ]
    }
   ],
   "source": [
    "#choose w vector\n",
    "ws=[]\n",
    "for j in range(100):\n",
    "    w=np.array([np.random.rand(),np.random.rand(),np.random.rand(),np.random.rand(),np.random.rand()])\n",
    "    t=sum(w)\n",
    "    w=np.sort(w)\n",
    "    d=len(w)\n",
    "    haveconjecture=True\n",
    "    if t/5<(w[1]+w[2])/2:\n",
    "        vconj=np.array([(w[1]+w[2])/2,(w[1]+w[2])/2,(w[0]+w[3]+w[4])/3,(w[0]+w[3]+w[4])/3,(w[0]+w[3]+w[4])/3,])\n",
    "        Iconj=H(vconj)\n",
    "        print(\"1st regime\")\n",
    "        ws.append(w)\n",
    "    elif t/5>(w[2]+w[3])/2:\n",
    "        vconj=np.array([(w[2]+w[3])/2,(w[2]+w[3])/2,(w[0]+w[1]+w[4])/3,(w[0]+w[1]+w[4])/3,(w[0]+w[1]+w[4])/3,])\n",
    "        Iconj=H(vconj)\n",
    "        print(\"2nd regime\")\n",
    "        ws.append(w)\n",
    "    else:\n",
    "        haveconjecture=False\n",
    "        print(\"unknown regime\")"
   ]
  },
  {
   "cell_type": "code",
   "execution_count": 20,
   "id": "9ae79dd2-a917-4f3e-9dab-47f167efcf90",
   "metadata": {},
   "outputs": [
    {
     "data": {
      "text/plain": [
       "[array([0.06107393, 0.09195662, 0.17570817, 0.31671073, 0.79044988]),\n",
       " array([0.17141052, 0.1879521 , 0.19878319, 0.25597978, 0.72284858]),\n",
       " array([0.11720914, 0.58447904, 0.62896595, 0.67608258, 0.83311845]),\n",
       " array([0.05643196, 0.07543735, 0.08430196, 0.18567166, 0.76125603]),\n",
       " array([0.48612207, 0.51768943, 0.59436303, 0.61219746, 0.96326387]),\n",
       " array([0.01507189, 0.06700813, 0.09221116, 0.35646417, 0.67562343]),\n",
       " array([0.05992716, 0.11306935, 0.13708026, 0.27367042, 0.86992894]),\n",
       " array([0.03294419, 0.55511419, 0.82555108, 0.88060291, 0.99802625]),\n",
       " array([0.10149043, 0.40318086, 0.69534272, 0.69545063, 0.77544863]),\n",
       " array([0.10388813, 0.4801112 , 0.62125352, 0.6466061 , 0.85106515]),\n",
       " array([0.12499359, 0.394975  , 0.47638738, 0.52556822, 0.65358446]),\n",
       " array([0.07702118, 0.11036463, 0.20356913, 0.30515876, 0.67132918]),\n",
       " array([0.17428388, 0.37172466, 0.382868  , 0.38380627, 0.86961459]),\n",
       " array([0.10923816, 0.14112318, 0.1491044 , 0.22990538, 0.62427163]),\n",
       " array([0.22172124, 0.3271608 , 0.3604845 , 0.57503153, 0.96065264]),\n",
       " array([0.01250302, 0.0843586 , 0.11428836, 0.30633276, 0.69378865]),\n",
       " array([0.11384055, 0.18483295, 0.19915601, 0.2195569 , 0.84521744]),\n",
       " array([0.26603519, 0.5971062 , 0.62058805, 0.66153052, 0.75439697]),\n",
       " array([0.11257921, 0.62156266, 0.68323119, 0.88522974, 0.91356634]),\n",
       " array([0.051384  , 0.19240856, 0.20314252, 0.2535713 , 0.88947598]),\n",
       " array([0.00999763, 0.65252663, 0.77796327, 0.81514603, 0.88164063]),\n",
       " array([0.45294898, 0.47302559, 0.50727234, 0.54113152, 0.69621051]),\n",
       " array([0.48167519, 0.74544406, 0.80511453, 0.83175622, 0.87726505]),\n",
       " array([0.06533132, 0.82831854, 0.85165112, 0.91676667, 0.98160965]),\n",
       " array([0.05770038, 0.23320943, 0.3309688 , 0.34153384, 0.76045177]),\n",
       " array([0.06241144, 0.7139086 , 0.82262951, 0.92006849, 0.9375096 ]),\n",
       " array([0.08277549, 0.51453834, 0.66473219, 0.71707984, 0.96302394]),\n",
       " array([0.05284818, 0.16561683, 0.31747517, 0.38148837, 0.95271139]),\n",
       " array([0.13188117, 0.19193363, 0.2401398 , 0.47137959, 0.80482713]),\n",
       " array([0.23558372, 0.2496243 , 0.26293285, 0.40057246, 0.51928313]),\n",
       " array([0.07312477, 0.25581225, 0.35979452, 0.38313955, 0.86803706]),\n",
       " array([0.08996635, 0.42144878, 0.77792163, 0.84278064, 0.8550535 ]),\n",
       " array([0.11385957, 0.41931846, 0.46718245, 0.58826318, 0.60722701]),\n",
       " array([0.02638735, 0.13777487, 0.20917426, 0.38844769, 0.93745169]),\n",
       " array([0.11104058, 0.83182854, 0.84116165, 0.90711476, 0.98523829]),\n",
       " array([0.35513239, 0.36597918, 0.42001064, 0.42673723, 0.96350441]),\n",
       " array([0.53072831, 0.56738341, 0.60366234, 0.6956397 , 0.85901614]),\n",
       " array([0.16152659, 0.23558928, 0.24107515, 0.27546138, 0.43014627]),\n",
       " array([0.30099136, 0.42546237, 0.44714946, 0.50815207, 0.84217359])]"
      ]
     },
     "execution_count": 20,
     "metadata": {},
     "output_type": "execute_result"
    }
   ],
   "source": [
    "ws"
   ]
  },
  {
   "cell_type": "code",
   "execution_count": 27,
   "id": "dd03e48d-80ef-45d7-957e-f8ed2f82a69e",
   "metadata": {},
   "outputs": [],
   "source": [
    "b=ws[5]"
   ]
  },
  {
   "cell_type": "code",
   "execution_count": 28,
   "id": "592e3354-de30-471d-9359-852908b9fa4e",
   "metadata": {},
   "outputs": [
    {
     "data": {
      "text/plain": [
       "numpy.ndarray"
      ]
     },
     "execution_count": 28,
     "metadata": {},
     "output_type": "execute_result"
    }
   ],
   "source": [
    "type(b)"
   ]
  },
  {
   "cell_type": "code",
   "execution_count": 32,
   "id": "7acd8eb4-f7bd-4764-b8a7-7ce8d22b161b",
   "metadata": {},
   "outputs": [
    {
     "ename": "NameError",
     "evalue": "name 'array' is not defined",
     "output_type": "error",
     "traceback": [
      "\u001b[0;31m---------------------------------------------------------------------------\u001b[0m",
      "\u001b[0;31mNameError\u001b[0m                                 Traceback (most recent call last)",
      "\u001b[0;32m/scratch-local/slurm-job-tmp-3743277/ipykernel_109/3565829600.py\u001b[0m in \u001b[0;36m<cell line: 1>\u001b[0;34m()\u001b[0m\n\u001b[0;32m----> 1\u001b[0;31m \u001b[0mcc\u001b[0m\u001b[0;34m=\u001b[0m\u001b[0marray\u001b[0m\u001b[0;34m(\u001b[0m\u001b[0;34m[\u001b[0m\u001b[0;36m1.\u001b[0m\u001b[0;34m,\u001b[0m\u001b[0;36m2.\u001b[0m\u001b[0;34m]\u001b[0m\u001b[0;34m)\u001b[0m\u001b[0;34m\u001b[0m\u001b[0;34m\u001b[0m\u001b[0m\n\u001b[0m",
      "\u001b[0;31mNameError\u001b[0m: name 'array' is not defined"
     ]
    }
   ],
   "source": [
    "cc=array([1.,2.])"
   ]
  },
  {
   "cell_type": "code",
   "execution_count": 31,
   "id": "d91f317c-7259-42a5-881e-84ed4673feda",
   "metadata": {},
   "outputs": [
    {
     "data": {
      "text/plain": [
       "numpy.ndarray"
      ]
     },
     "execution_count": 31,
     "metadata": {},
     "output_type": "execute_result"
    }
   ],
   "source": [
    "type(cc)"
   ]
  },
  {
   "cell_type": "code",
   "execution_count": 1,
   "id": "16f9a199-0d17-455e-a4be-5f81aeca52d8",
   "metadata": {},
   "outputs": [
    {
     "data": {
      "text/plain": [
       "14"
      ]
     },
     "execution_count": 1,
     "metadata": {},
     "output_type": "execute_result"
    }
   ],
   "source": [
    "7+7"
   ]
  },
  {
   "cell_type": "code",
   "execution_count": null,
   "id": "c336b003-bd7a-488c-87d9-439e227b44ce",
   "metadata": {},
   "outputs": [],
   "source": []
  }
 ],
 "metadata": {
  "kernelspec": {
   "display_name": "Python 3 (ipykernel)",
   "language": "python",
   "name": "python3"
  },
  "language_info": {
   "codemirror_mode": {
    "name": "ipython",
    "version": 3
   },
   "file_extension": ".py",
   "mimetype": "text/x-python",
   "name": "python",
   "nbconvert_exporter": "python",
   "pygments_lexer": "ipython3",
   "version": "3.10.5"
  }
 },
 "nbformat": 4,
 "nbformat_minor": 5
}
