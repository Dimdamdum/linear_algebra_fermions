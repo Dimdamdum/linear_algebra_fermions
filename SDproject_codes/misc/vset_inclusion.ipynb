{
 "cells": [
  {
   "cell_type": "markdown",
   "id": "4be3e4ef-dcb9-4045-bb53-569f1c71a3d5",
   "metadata": {},
   "source": [
    "Since the young diagram (3,1) majorizes (2,2) we conjectured that  for a given w the vset for (3,1) is a subset of the vset for (2,2). Notice that (2,2) is not a refinement of (3,1), otherwise the conjecture would be trivially true. This code looks for counterexamples to the conjecture.\n",
    "\n",
    "This code generates a w vector with d=4. Then generates a v1 v2 v3 fulfilling the interlacing inequalities relative to (3,1) and the spectrum w, and the corresponding v vector. Finally it checks whether v  can be realized as a block spectrum (a1_1,a1_2,a2_1,a2_2) which fulfills the facet defining inequalities of the vset relative to (2,2).\n",
    "\n",
    "No counterexamples (w,v) are found. the sampling is  over a 6 dim space (4 w entries + 3 v entries - 1 for homogeneity). i also restricted  to sampling close to the vertices of the vset relative to (3,1). still no counterexamples found. i strongly expect that the sampling is accurate enough, so modulo human mistakes we conclude that our conjectured inclusion of vsets holds."
   ]
  },
  {
   "cell_type": "code",
   "execution_count": 123,
   "id": "d86bdfad-3d8a-43eb-8106-9029026515a0",
   "metadata": {
    "tags": []
   },
   "outputs": [],
   "source": [
    "import numpy as np"
   ]
  },
  {
   "cell_type": "code",
   "execution_count": 124,
   "id": "414632fe-1b45-4495-b351-12e5d84b420e",
   "metadata": {},
   "outputs": [],
   "source": [
    "#functions\n",
    "\n",
    "def vbelongstoothervset(w,v):\n",
    "    a1_1 = v[3]\n",
    "    \n",
    "    a2_1=v[2]\n",
    "    a2_2=v[1]\n",
    "    a1_2=v[0]\n",
    "    if(abelongstoothervset(w,a1_1,a1_2,a2_1,a2_2)==True):\n",
    "        return(True)\n",
    "    \n",
    "    a2_1=v[2]\n",
    "    a2_2=v[0]\n",
    "    a1_2=v[1]\n",
    "    if(abelongstoothervset(w,a1_1,a1_2,a2_1,a2_2)==True):\n",
    "        return(True)\n",
    "    \n",
    "    a2_1=v[1]\n",
    "    a2_2=v[0]\n",
    "    a1_2=v[2]\n",
    "    if(abelongstoothervset(w,a1_1,a1_2,a2_1,a2_2)==True):\n",
    "        return(True)\n",
    "\n",
    "    return(False)\n",
    "\n",
    "def abelongstoothervset(w,a1_1,a1_2,a2_1,a2_2):\n",
    "    c1=w[3]\n",
    "    c2=w[2]\n",
    "    c3=w[1]\n",
    "    c4=w[0]\n",
    "    #if a1_1<a1_2 or a2_1<a2_2:\n",
    "    #    print(\"error!\")\n",
    "    if c1>=a1_1 and c1>=a2_1 and a1_1>=c3 and a2_1>=c3 and c2>=a1_2 and c2>=a2_2 and a1_2>=c4 and a2_2>=c4 and c1+c2>=a1_1+a2_1 and c1+c3>=a1_2+a2_1 and c1+c3>=a1_1+a2_2 and a1_1+a2_1>=c1+c4 and c1+c4>=a1_2+a2_2:\n",
    "#it s the following 13 ineq:\n",
    "#    c1>=a1_1 \n",
    "#    c1>=a2_1 \n",
    "#    a1_1>=c3 \n",
    "#    a2_1>=c3 \n",
    "#    c2>=a1_2 \n",
    "#    c2>=a2_2 \n",
    "#    a1_2>=c4 \n",
    "#    a2_2>=c4 \n",
    "#    c1+c2>=a1_1+a2_1 \n",
    "#    c1+c3>=a1_2+a2_1 \n",
    "#    c1+c3>=a1_1+a2_2 \n",
    "#    a1_1+a2_1>=c1+c4 \n",
    "#    c1+c4>=a1_2+a2_2\n",
    "        return(True)\n",
    "    return(False)"
   ]
  },
  {
   "cell_type": "code",
   "execution_count": 125,
   "id": "01f01136-f1ef-40a4-9b24-08f4cd2c49fb",
   "metadata": {},
   "outputs": [],
   "source": [
    "#generate a w vector. can also vary w all the time in the while cycle below.\n",
    "w = np.random.random(4)\n",
    "w = np.sort(w)"
   ]
  },
  {
   "cell_type": "code",
   "execution_count": 127,
   "id": "cca87137-d1e9-45da-a800-662267c90bfb",
   "metadata": {},
   "outputs": [
    {
     "name": "stdout",
     "output_type": "stream",
     "text": [
      "number samples:  100000000\n"
     ]
    }
   ],
   "source": [
    "presentvbelongstoothervset=True\n",
    "count=0\n",
    "maxcount=100000000\n",
    "while(presentvbelongstoothervset==True and count<maxcount):\n",
    "#generate a v vector fulfilling interlacing inequalities\n",
    "    count=count+1\n",
    "    #if you want to keep changing w:\n",
    "    w = np.random.random(4)\n",
    "    w = np.sort(w)\n",
    "    v0 = w[0]+(w[1]-w[0])*np.random.rand()\n",
    "    v1 = w[1]+(w[2]-w[1])*np.random.rand()\n",
    "    v2 = w[2]+(w[3]-w[2])*np.random.rand()\n",
    "    v3 = sum(w)-v0-v1-v2\n",
    "    # to stay close to vertices of vset relative to (3,1) you can substitute some np.random.rand()\n",
    "    #above with 0.000000001 or 0.999999999. watch out, machine precision mistakes kick in\n",
    "    v=np.sort(np.array([v0,v1,v2,v3]))\n",
    "    presentvbelongstoothervset=vbelongstoothervset(w,v)\n",
    "    \n",
    "if count<maxcount:\n",
    "    print(\"found a v vector which belongs to w's vset relative to (3,1) but not to w's vset relative to (2,2)!\")\n",
    "print(\"number samples: \",maxcount)"
   ]
  },
  {
   "cell_type": "code",
   "execution_count": null,
   "id": "03409091-358a-425d-b1db-25ec972b0323",
   "metadata": {},
   "outputs": [],
   "source": []
  }
 ],
 "metadata": {
  "kernelspec": {
   "display_name": "Python 3 (ipykernel)",
   "language": "python",
   "name": "python3"
  },
  "language_info": {
   "codemirror_mode": {
    "name": "ipython",
    "version": 3
   },
   "file_extension": ".py",
   "mimetype": "text/x-python",
   "name": "python",
   "nbconvert_exporter": "python",
   "pygments_lexer": "ipython3",
   "version": "3.10.5"
  }
 },
 "nbformat": 4,
 "nbformat_minor": 5
}
