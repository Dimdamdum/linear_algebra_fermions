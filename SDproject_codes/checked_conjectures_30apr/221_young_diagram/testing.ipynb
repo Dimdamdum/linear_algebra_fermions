{
 "cells": [
  {
   "cell_type": "code",
   "execution_count": 1,
   "id": "7d2294ac-f07a-409b-ab06-3ba9f93d027c",
   "metadata": {},
   "outputs": [],
   "source": [
    "import numpy as np\n",
    "from scipy.stats import unitary_group\n",
    "from numpy import linalg as LA\n",
    "from scipy.linalg import block_diag\n",
    "from scipy.linalg import logm, expm\n",
    "import qiskit"
   ]
  },
  {
   "cell_type": "code",
   "execution_count": 2,
   "id": "cb638c63-ef07-4836-92f7-87f35b8a52e4",
   "metadata": {},
   "outputs": [],
   "source": [
    "#functions\n",
    "def h(xx):\n",
    "    x=np.real(xx)\n",
    "    return -x*np.log2(x)-(1-x)*np.log2(1-x)\n",
    "def H(v):\n",
    "    summ=0\n",
    "    d=len(v)\n",
    "    for j in range(d):\n",
    "        summ=summ+h(v[j])\n",
    "    return summ\n",
    "#following function rotates gamma0=diag(w) with U, extract blocks wrt Y=(2,2,1), and returns block spectrum v\n",
    "def vvector(w,U):\n",
    "    gamma0=np.diag(w)\n",
    "    Udag=np.conjugate(U.T)\n",
    "    gamma=np.matmul(U,np.matmul(gamma0,Udag))\n",
    "    block1=gamma[0:2,0:2]\n",
    "    block2=gamma[2:4,2:4]\n",
    "    block1ev=LA.eigvals(block1)\n",
    "    block2ev=LA.eigvals(block2)\n",
    "    v=np.array([block1ev[0].real,block1ev[1].real,block2ev[0].real,block2ev[1].real,gamma[4][4].real])\n",
    "    return(v)\n",
    "\n",
    "#following function returns unitary epsilon close to identity\n",
    "def unitaryclosetoid(epsilon):\n",
    "    M = np.random.rand(d, d)-0.5 + 1j*np.random.rand(d, d)  # a (very basic) random complex matrix\n",
    "    A = (M - np.conj(M.T)) #make it antihermitian. eigenvalues are like between -3i and 3i...\n",
    "    deltaU=expm(epsilon*A) #unitary close to identity\n",
    "    return(deltaU)"
   ]
  },
  {
   "cell_type": "code",
   "execution_count": 3,
   "id": "c454258e-1fed-412d-9351-49b570470e2e",
   "metadata": {},
   "outputs": [
    {
     "name": "stdout",
     "output_type": "stream",
     "text": [
      "3rd (identity) regime?\n"
     ]
    }
   ],
   "source": [
    "#choose w vector\n",
    "#w=np.array([.2,.5,.5,.9,1.]) #value we discussed on blackboard\n",
    "w=np.array([np.random.rand(),np.random.rand(),np.random.rand(),np.random.rand(),np.random.rand()])  \n",
    "w=np.sort(w)\n",
    "t=sum(w)\n",
    "d=len(w)\n",
    "\n",
    "regime=0\n",
    "if t/5<(w[1]+w[2])/2:\n",
    "    vconj=np.sort(np.array([(w[1]+w[2])/2,(w[1]+w[2])/2,(w[0]+w[3]+w[4])/3,(w[0]+w[3]+w[4])/3,(w[0]+w[3]+w[4])/3]))\n",
    "    Iconj=H(vconj)\n",
    "    regime=1\n",
    "    print(\"1st regime\")\n",
    "elif t/5>(w[2]+w[3])/2:\n",
    "    vconj=np.sort(np.array([(w[2]+w[3])/2,(w[2]+w[3])/2,(w[0]+w[1]+w[4])/3,(w[0]+w[1]+w[4])/3,(w[0]+w[1]+w[4])/3]))\n",
    "    Iconj=H(vconj)\n",
    "    print(\"2nd regime\")\n",
    "    regime=2\n",
    "else:\n",
    "    haveconjecture=False\n",
    "    print(\"3rd (identity) regime?\")\n",
    "    vconj=np.array([t/d,t/d,t/d,t/d,t/d])\n",
    "    Iconj=H(vconj)   \n",
    "    regime=3"
   ]
  },
  {
   "cell_type": "code",
   "execution_count": 47,
   "id": "9ce3c871-519e-4a29-bf45-6fc38e0486ac",
   "metadata": {
    "tags": []
   },
   "outputs": [
    {
     "name": "stdout",
     "output_type": "stream",
     "text": [
      "Out of  30  couples (I,U) on the podium, the first  1  couples are close to the winner couple\n"
     ]
    }
   ],
   "source": [
    "#number of global unitaries\n",
    "m=1000 #still the bottleneck parameter(?).\n",
    "#looks like 10 mln is enough to \"fall close to global maximum\".after that local maximization is efficient (?)\n",
    "\n",
    "#number of best global unitaries to keep on the 'podium'\n",
    "mpodium=30\n",
    "#number of close-to-identity unitaries\n",
    "mm=20\n",
    "#decide how close to identity\n",
    "epsilon=0.005 #try carefully\n",
    "#number of close-to-identity unitaries for second local round\n",
    "mmm=10000\n",
    "epsilon2=0.00001 #try carefully\n",
    "\n",
    "#allocate memory for some relevant variables\n",
    "#gamma0=np.diag(w)\n",
    "vbest=np.array([w[j] for j in range(d)])\n",
    "v=np.zeros(d)\n",
    "Ibest=0.\n",
    "I=0.\n",
    "Ubest=np.identity(d,dtype=complex)\n",
    "U=np.identity(d,dtype=complex)\n",
    "podium=[[0.,np.identity(d,dtype=complex)] for i in range(mpodium)] #will be filled with couples (I value, U)\n",
    "\n",
    "#step 1: global optimization\n",
    "for k in range(m):\n",
    "    U=unitary_group.rvs(d)\n",
    "    v=vvector(w,U)\n",
    "    I=H(v)\n",
    "    if I>podium[0][0]:\n",
    "        podium[0][0]=np.copy(I)\n",
    "        podium[0][1]=np.copy(U)\n",
    "        #order podium; best (I,U) is given by podium[-1]\n",
    "        podium = sorted(podium, key=lambda x: x[0])\n",
    "                               \n",
    "Ibestbeforelocal=np.copy(podium[-1][0])\n",
    "\n",
    "#step 2: local optimization for each unitary on the podium\n",
    "deltaU=np.identity(d,dtype=complex)\n",
    "\n",
    "#! watch out. some a-posteriori check of UNITARITY OF Ubest should be done, see below.\n",
    "#Bc we are multiplying more and more unitaries... (how many?)\n",
    "#the errors add up, as opposed to what happens in the global maximization\n",
    "\n",
    "for k in range(mm):\n",
    "    deltaU=unitaryclosetoid(epsilon)\n",
    "    for l in range(mpodium): #treat  podium couples  (I,U) independently\n",
    "        U = np.matmul(podium[l][1],deltaU) #unitary close to podium[l][1]\n",
    "        v=vvector(w,U)\n",
    "        I=H(v)\n",
    "        if I>podium[l][0]:\n",
    "            podium[l][0]=np.copy(I)\n",
    "            podium[l][1]=np.copy(U)\n",
    "            \n",
    "#reorder podium            \n",
    "podium = sorted(podium, key=lambda x: x[0])\n",
    "# best among podium\n",
    "\n",
    "Ibestafterlocal=np.copy(podium[-1][0])\n",
    "Ibest=np.copy(podium[-1][0])\n",
    "Ubest=np.copy(podium[-1][1])\n",
    "\n",
    "count=0\n",
    "for j in range(mpodium):\n",
    "    if Ibest-podium[j][0]<0.0001:\n",
    "        count=count+1\n",
    "print(\"Out of \", mpodium, \" couples (I,U) on the podium, the first \",count, \" couples are close to the winner couple\")\n",
    "\n",
    "#step 3: further local optimization\n",
    "#assuming the winner Ubest is actually good, one can push the local maximization even further to get more digits\n",
    "#unitarity check in the end could be more important than before as you multiply more and more unitaries\n",
    "\n",
    "for k in range(mmm):\n",
    "    deltaU=unitaryclosetoid(epsilon2)\n",
    "    U = np.matmul(Ubest,deltaU) #unitary close to Ubest\n",
    "    v=vvector(w,U)\n",
    "    I=H(v)\n",
    "    if I>Ibest:\n",
    "        Ibest=np.copy(I)\n",
    "        Ubest=np.copy(U)"
   ]
  },
  {
   "cell_type": "code",
   "execution_count": 48,
   "id": "3288456a-341a-4b1d-9da4-df5bacebe559",
   "metadata": {},
   "outputs": [
    {
     "name": "stdout",
     "output_type": "stream",
     "text": [
      "estimated Imax value after global minimization:  4.969105589618209\n",
      "estimated Imax value after first local minimization:  4.977353463303343\n",
      "estimated Imax value after second local minimization:  4.9781254283252885\n",
      "upper bound:  4.996617357748243\n"
     ]
    }
   ],
   "source": [
    "print(\"estimated Imax value after global minimization: \",Ibestbeforelocal)\n",
    "print(\"estimated Imax value after first local minimization: \",Ibestafterlocal)\n",
    "print(\"estimated Imax value after second local minimization: \",Ibest)\n",
    "print(\"upper bound: \", d*h(t/d))"
   ]
  },
  {
   "cell_type": "code",
   "execution_count": 49,
   "id": "3fe33745-5f1f-478c-8934-473e2fce1720",
   "metadata": {},
   "outputs": [
    {
     "data": {
      "text/plain": [
       "array([[ 1.+0.j, -0.-0.j, -0.+0.j,  0.-0.j,  0.-0.j],\n",
       "       [-0.+0.j,  1.+0.j, -0.+0.j,  0.+0.j, -0.+0.j],\n",
       "       [-0.-0.j, -0.-0.j,  1.+0.j,  0.+0.j,  0.+0.j],\n",
       "       [ 0.+0.j,  0.-0.j,  0.-0.j,  1.+0.j,  0.+0.j],\n",
       "       [ 0.+0.j, -0.-0.j,  0.-0.j,  0.-0.j,  1.+0.j]])"
      ]
     },
     "execution_count": 49,
     "metadata": {},
     "output_type": "execute_result"
    }
   ],
   "source": [
    "#unitarity check\n",
    "Ubestdag=np.conjugate(Ubest.T)\n",
    "np.matmul(Ubest,Ubestdag).round(14)"
   ]
  },
  {
   "cell_type": "code",
   "execution_count": 61,
   "id": "1491eeb4-ee39-4688-a2a3-e6d29cc9e395",
   "metadata": {},
   "outputs": [
    {
     "name": "stdout",
     "output_type": "stream",
     "text": [
      "vbest:  [0.442672 0.449623 0.480743 0.518024 0.532383]\n",
      "vconj:  [0.484689 0.484689 0.484689 0.484689 0.484689]\n",
      "\n",
      "Estimated Imax value:  4.9781254283252885\n",
      "Conjectured Imax value:  4.996617357748243\n",
      "\n",
      "Conjecture not violated; difference is  0.018491929422954634\n"
     ]
    }
   ],
   "source": [
    "#check conjectures:\n",
    "vbest=np.sort(vvector(w,Ubest))\n",
    "print(\"vbest: \",vbest.round(6))\n",
    "print(\"vconj: \",vconj.round(6))\n",
    "\n",
    "print(\"\\nEstimated Imax value: \",Ibest)\n",
    "print(\"Conjectured Imax value: \",Iconj)\n",
    "diff=Iconj-Ibest\n",
    "if diff<0:\n",
    "    print(\"\\nConjecture is wrong!\")\n",
    "else:\n",
    "    print(\"\\nConjecture not violated; difference is \", diff)"
   ]
  },
  {
   "cell_type": "code",
   "execution_count": 62,
   "id": "3b118f5d-c034-4024-8d64-5931c74d2e71",
   "metadata": {},
   "outputs": [
    {
     "name": "stdout",
     "output_type": "stream",
     "text": [
      "Finished!\n"
     ]
    }
   ],
   "source": [
    "print(\"Finished!\")"
   ]
  },
  {
   "cell_type": "code",
   "execution_count": 51,
   "id": "59af500e-668e-47a2-af5b-14040a192690",
   "metadata": {},
   "outputs": [
    {
     "data": {
      "text/plain": [
       "0.004331245912405635"
      ]
     },
     "execution_count": 51,
     "metadata": {},
     "output_type": "execute_result"
    }
   ],
   "source": [
    "0.004331245912405635"
   ]
  },
  {
   "cell_type": "code",
   "execution_count": 52,
   "id": "ce69d00b-b83e-46e6-8da0-a173888602be",
   "metadata": {},
   "outputs": [
    {
     "data": {
      "text/plain": [
       "0.005450835242402086"
      ]
     },
     "execution_count": 52,
     "metadata": {},
     "output_type": "execute_result"
    }
   ],
   "source": [
    "0.005450835242402086"
   ]
  },
  {
   "cell_type": "code",
   "execution_count": 53,
   "id": "836e4e6f-d36e-49a9-8dbf-adbc7c27a01d",
   "metadata": {},
   "outputs": [
    {
     "data": {
      "text/plain": [
       "0.0032784568781654144"
      ]
     },
     "execution_count": 53,
     "metadata": {},
     "output_type": "execute_result"
    }
   ],
   "source": [
    "0.0032784568781654144"
   ]
  },
  {
   "cell_type": "code",
   "execution_count": 54,
   "id": "77e21c1a-73f1-461b-a57c-1f757fefe255",
   "metadata": {},
   "outputs": [
    {
     "data": {
      "text/plain": [
       "0.0010188377819444483"
      ]
     },
     "execution_count": 54,
     "metadata": {},
     "output_type": "execute_result"
    }
   ],
   "source": [
    "0.0010188377819444483"
   ]
  },
  {
   "cell_type": "code",
   "execution_count": 55,
   "id": "078bfe0a-1407-4e36-bab9-06a65f3f2704",
   "metadata": {},
   "outputs": [
    {
     "data": {
      "text/plain": [
       "0.002422183514440235"
      ]
     },
     "execution_count": 55,
     "metadata": {},
     "output_type": "execute_result"
    }
   ],
   "source": [
    "0.002422183514440235"
   ]
  },
  {
   "cell_type": "code",
   "execution_count": 56,
   "id": "2545adc1-a1f6-4051-91e5-c590efbb8e8b",
   "metadata": {},
   "outputs": [
    {
     "data": {
      "text/plain": [
       "2.0668632547682364e-06"
      ]
     },
     "execution_count": 56,
     "metadata": {},
     "output_type": "execute_result"
    }
   ],
   "source": [
    "2.0668632547682364e-06"
   ]
  },
  {
   "cell_type": "code",
   "execution_count": 57,
   "id": "97398e4f-19f0-4230-b9da-bfd67463942a",
   "metadata": {},
   "outputs": [
    {
     "data": {
      "text/plain": [
       "0.0017354718380344636"
      ]
     },
     "execution_count": 57,
     "metadata": {},
     "output_type": "execute_result"
    }
   ],
   "source": [
    "0.0017354718380344636"
   ]
  },
  {
   "cell_type": "code",
   "execution_count": 58,
   "id": "34324e5c-3027-4a98-8c05-87e612e33b6d",
   "metadata": {},
   "outputs": [
    {
     "data": {
      "text/plain": [
       "8.173694521218522e-08"
      ]
     },
     "execution_count": 58,
     "metadata": {},
     "output_type": "execute_result"
    }
   ],
   "source": [
    "8.173694521218522e-08"
   ]
  },
  {
   "cell_type": "code",
   "execution_count": 59,
   "id": "b37e6d8b-2eb4-4d81-8723-dc46625655db",
   "metadata": {},
   "outputs": [
    {
     "name": "stdout",
     "output_type": "stream",
     "text": [
      "done 3.348432642269472e-12\n"
     ]
    }
   ],
   "source": [
    "print(\"done\",3.348432642269472e-12)"
   ]
  },
  {
   "cell_type": "code",
   "execution_count": 63,
   "id": "62084e4a-dd35-495a-98c9-0fb19f6f706e",
   "metadata": {},
   "outputs": [
    {
     "name": "stdout",
     "output_type": "stream",
     "text": [
      "w:  [0.1311817 0.233015  0.4562054 0.7303518 0.8726907]\n",
      "vbest:  [0.4426716 0.4496232 0.4807429 0.518024  0.5323827]\n",
      "vconj:  [0.4846889 0.4846889 0.4846889 0.4846889 0.4846889]\n",
      "identity regime up to Imax accuracy  0.018491929422954634\n"
     ]
    }
   ],
   "source": [
    "print(\"w: \",w.round(7))\n",
    "print(\"vbest: \",vbest.round(7))\n",
    "print(\"vconj: \",vconj.round(7))\n",
    "print(\"identity regime up to Imax accuracy \",diff)"
   ]
  },
  {
   "cell_type": "code",
   "execution_count": 64,
   "id": "ca94c0da-03b4-401a-957b-0c4c22484015",
   "metadata": {},
   "outputs": [],
   "source": [
    "############################################à"
   ]
  },
  {
   "cell_type": "code",
   "execution_count": 65,
   "id": "d79fa03e-e4f3-47e1-b971-03f3aa1d0a92",
   "metadata": {},
   "outputs": [],
   "source": [
    "def newpodium(w,podium,newmpodium,localm,eps):\n",
    "    deltaU=np.identity(d,dtype=complex)\n",
    "    U=np.identity(d,dtype=complex)\n",
    "    mpodium=len(podium)\n",
    "    v=np.zeros(d)\n",
    "    I=0.\n",
    "    \n",
    "    for k in range(localm):\n",
    "        deltaU=unitaryclosetoid(eps)\n",
    "        for l in range(mpodium): #treat  podium couples  (I,U) independently\n",
    "            U = np.matmul(podium[l][1],deltaU) #unitary close to podium[l][1]\n",
    "            v=vvector(w,U)\n",
    "            I=H(v)\n",
    "            if I>podium[l][0]:\n",
    "                podium[l][0]=np.copy(I)\n",
    "                podium[l][1]=np.copy(U)        \n",
    "    podium = sorted(podium, key=lambda x: x[0])\n",
    "    newpodium=[podium[-newmpodium+j] for j in range(newmpodium)]\n",
    "    return(newpodium)"
   ]
  },
  {
   "cell_type": "code",
   "execution_count": 66,
   "id": "88044c09-cb8a-4280-8e83-ab3449dd4aee",
   "metadata": {},
   "outputs": [
    {
     "name": "stdout",
     "output_type": "stream",
     "text": [
      "30\n",
      "4.980255172264027\n",
      "4.980501179874338\n",
      "4.990866245026974\n",
      "4.992416076933423\n"
     ]
    },
    {
     "data": {
      "text/plain": [
       "4"
      ]
     },
     "execution_count": 66,
     "metadata": {},
     "output_type": "execute_result"
    }
   ],
   "source": [
    "print(len(podium))\n",
    "podium=newpodium(w,podium,4,1000,0.1)\n",
    "for l in range(4):\n",
    "    print(podium[l][0])\n",
    "len(podium)"
   ]
  },
  {
   "cell_type": "code",
   "execution_count": null,
   "id": "8fe113f2-3122-4aaf-9c18-4d78cbda9919",
   "metadata": {},
   "outputs": [],
   "source": []
  }
 ],
 "metadata": {
  "kernelspec": {
   "display_name": "Python 3 (ipykernel)",
   "language": "python",
   "name": "python3"
  },
  "language_info": {
   "codemirror_mode": {
    "name": "ipython",
    "version": 3
   },
   "file_extension": ".py",
   "mimetype": "text/x-python",
   "name": "python",
   "nbconvert_exporter": "python",
   "pygments_lexer": "ipython3",
   "version": "3.10.5"
  }
 },
 "nbformat": 4,
 "nbformat_minor": 5
}
