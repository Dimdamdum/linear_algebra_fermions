{
 "cells": [
  {
   "cell_type": "code",
   "execution_count": 1,
   "id": "7d2294ac-f07a-409b-ab06-3ba9f93d027c",
   "metadata": {},
   "outputs": [],
   "source": [
    "import numpy as np\n",
    "from scipy.stats import unitary_group\n",
    "from numpy import linalg as LA\n",
    "from scipy.linalg import block_diag\n",
    "from scipy.linalg import logm, expm\n",
    "import qiskit"
   ]
  },
  {
   "cell_type": "code",
   "execution_count": 2,
   "id": "cb638c63-ef07-4836-92f7-87f35b8a52e4",
   "metadata": {},
   "outputs": [],
   "source": [
    "#functions\n",
    "def h(xx):\n",
    "    x=np.real(xx)\n",
    "    return -x*np.log2(x)-(1-x)*np.log2(1-x)\n",
    "def H(v):\n",
    "    summ=0\n",
    "    d=len(v)\n",
    "    for j in range(d):\n",
    "        summ=summ+h(v[j])\n",
    "    return summ\n",
    "#following function rotates gamma0=diag(w) with U, extract blocks wrt Y=(2,2,1), and returns block spectrum v\n",
    "def vvector(w,U):\n",
    "    gamma0=np.diag(w)\n",
    "    Udag=np.conjugate(U.T)\n",
    "    gamma=np.matmul(U,np.matmul(gamma0,Udag))\n",
    "    block1=gamma[0:2,0:2]\n",
    "    block2=gamma[2:4,2:4]\n",
    "    block1ev=LA.eigvals(block1)\n",
    "    block2ev=LA.eigvals(block2)\n",
    "    v=np.array([block1ev[0].real,block1ev[1].real,block2ev[0].real,block2ev[1].real,gamma[4][4].real])\n",
    "    return(v)\n",
    "\n",
    "#following function returns unitary epsilon close to identity\n",
    "def unitaryclosetoid(epsilon):\n",
    "    M = np.random.rand(d, d)-0.5 + 1j*np.random.rand(d, d)  # a (very basic) random complex matrix\n",
    "    A = (M - np.conj(M.T)) #make it antihermitian. eigenvalues are like between -3i and 3i...\n",
    "    deltaU=expm(epsilon*A) #unitary close to identity\n",
    "    return(deltaU)"
   ]
  },
  {
   "cell_type": "code",
   "execution_count": 65,
   "id": "c454258e-1fed-412d-9351-49b570470e2e",
   "metadata": {},
   "outputs": [
    {
     "name": "stdout",
     "output_type": "stream",
     "text": [
      "3rd (identity) regime?\n"
     ]
    }
   ],
   "source": [
    "#choose w vector\n",
    "#w=np.array([.2,.5,.5,.9,1.]) #value we discussed on blackboard\n",
    "w=np.array([np.random.rand(),np.random.rand(),np.random.rand(),np.random.rand(),np.random.rand()])  \n",
    "#HERE STUDYING THE FOLLOWING NASTY w. Has two small entries...maybe that prevents conjecture\n",
    "#otherwise it's a new regime\n",
    "w=np.array([0.07742762, 0.09840953, 0.72567301, 0.80270683, 0.80799754])\n",
    "w=np.array([0.2,0.3,0.7,0.7,0.8])\n",
    "w=np.sort(w)\n",
    "t=sum(w)\n",
    "d=len(w)\n",
    "\n",
    "regime=0\n",
    "if t/5<(w[1]+w[2])/2:\n",
    "    vconj=np.sort(np.array([(w[1]+w[2])/2,(w[1]+w[2])/2,(w[0]+w[3]+w[4])/3,(w[0]+w[3]+w[4])/3,(w[0]+w[3]+w[4])/3]))\n",
    "    Iconj=H(vconj)\n",
    "    regime=1\n",
    "    print(\"1st regime\")\n",
    "elif t/5>(w[2]+w[3])/2:\n",
    "    vconj=np.sort(np.array([(w[2]+w[3])/2,(w[2]+w[3])/2,(w[0]+w[1]+w[4])/3,(w[0]+w[1]+w[4])/3,(w[0]+w[1]+w[4])/3]))\n",
    "    Iconj=H(vconj)\n",
    "    print(\"2nd regime\")\n",
    "    regime=2\n",
    "else:\n",
    "    haveconjecture=False\n",
    "    print(\"3rd (identity) regime?\")\n",
    "    vconj=np.array([t/d,t/d,t/d,t/d,t/d])\n",
    "    Iconj=H(vconj)   \n",
    "    regime=3"
   ]
  },
  {
   "cell_type": "code",
   "execution_count": 42,
   "id": "9ce3c871-519e-4a29-bf45-6fc38e0486ac",
   "metadata": {
    "tags": []
   },
   "outputs": [
    {
     "name": "stdout",
     "output_type": "stream",
     "text": [
      "Out of  200  couples (I,U) on the podium, the first  1  couples are close to the winner couple\n"
     ]
    }
   ],
   "source": [
    "#number of global unitaries\n",
    "m=2000000 #still the bottleneck parameter(?).\n",
    "#looks like 10 mln is enough to \"fall close to global maximum\".after that local maximization is efficient (?)\n",
    "\n",
    "#number of best global unitaries to keep on the 'podium'\n",
    "mpodium=200\n",
    "#number of close-to-identity unitaries\n",
    "mm=5000\n",
    "#decide how close to identity\n",
    "epsilon=0.01 #try carefully\n",
    "#number of close-to-identity unitaries for second local round\n",
    "mmm=100000\n",
    "epsilon2=0.00001 #try carefully\n",
    "\n",
    "#allocate memory for some relevant variables\n",
    "#gamma0=np.diag(w)\n",
    "vbest=np.array([w[j] for j in range(d)])\n",
    "v=np.zeros(d)\n",
    "Ibest=0.\n",
    "I=0.\n",
    "Ubest=np.identity(d,dtype=complex)\n",
    "U=np.identity(d,dtype=complex)\n",
    "podium=[[0.,np.identity(d,dtype=complex)] for i in range(mpodium)] #will be filled with couples (I value, U)\n",
    "\n",
    "#step 1: global optimization\n",
    "for k in range(m):\n",
    "    U=unitary_group.rvs(d)\n",
    "    v=vvector(w,U)\n",
    "    I=H(v)\n",
    "    if I>podium[0][0]:\n",
    "        podium[0][0]=np.copy(I)\n",
    "        podium[0][1]=np.copy(U)\n",
    "        #order podium; best (I,U) is given by podium[-1]\n",
    "        podium = sorted(podium, key=lambda x: x[0])\n",
    "                               \n",
    "Ibestbeforelocal=np.copy(podium[-1][0])\n",
    "\n",
    "#step 2: local optimization for each unitary on the podium\n",
    "deltaU=np.identity(d,dtype=complex)\n",
    "\n",
    "#! watch out. some a-posteriori check of UNITARITY OF Ubest should be done, see below.\n",
    "#Bc we are multiplying more and more unitaries... (how many?)\n",
    "#the errors add up, as opposed to what happens in the global maximization\n",
    "\n",
    "for k in range(mm):\n",
    "    deltaU=unitaryclosetoid(epsilon)\n",
    "    for l in range(mpodium): #treat  podium couples  (I,U) independently\n",
    "        U = np.matmul(podium[l][1],deltaU) #unitary close to podium[l][1]\n",
    "        v=vvector(w,U)\n",
    "        I=H(v)\n",
    "        if I>podium[l][0]:\n",
    "            podium[l][0]=np.copy(I)\n",
    "            podium[l][1]=np.copy(U)\n",
    "            \n",
    "#reorder podium            \n",
    "podium = sorted(podium, key=lambda x: x[0])\n",
    "# best among podium\n",
    "\n",
    "Ibestafterlocal=np.copy(podium[-1][0])\n",
    "Ibest=np.copy(podium[-1][0])\n",
    "Ubest=np.copy(podium[-1][1])\n",
    "\n",
    "count=0\n",
    "for j in range(mpodium):\n",
    "    if Ibest-podium[j][0]<0.0001:\n",
    "        count=count+1\n",
    "print(\"Out of \", mpodium, \" couples (I,U) on the podium, the first \",count, \" couples are close to the winner couple\")\n",
    "\n",
    "#step 3: further local optimization\n",
    "#assuming the winner Ubest is actually good, one can push the local maximization even further to get more digits\n",
    "#unitarity check in the end could be more important than before as you multiply more and more unitaries\n",
    "\n",
    "for k in range(mmm):\n",
    "    deltaU=unitaryclosetoid(epsilon2)\n",
    "    U = np.matmul(Ubest,deltaU) #unitary close to Ubest\n",
    "    v=vvector(w,U)\n",
    "    I=H(v)\n",
    "    if I>Ibest:\n",
    "        Ibest=np.copy(I)\n",
    "        Ubest=np.copy(U)"
   ]
  },
  {
   "cell_type": "code",
   "execution_count": 43,
   "id": "3288456a-341a-4b1d-9da4-df5bacebe559",
   "metadata": {},
   "outputs": [
    {
     "name": "stdout",
     "output_type": "stream",
     "text": [
      "estimated Imax value after global minimization:  4.969791780579395\n",
      "estimated Imax value after first local minimization:  4.9768602025421815\n",
      "estimated Imax value after second local minimization:  4.976890116282002\n",
      "upper bound:  4.976892194101128\n"
     ]
    }
   ],
   "source": [
    "\n",
    "print(\"estimated Imax value after global minimization: \",Ibestbeforelocal)\n",
    "print(\"estimated Imax value after first local minimization: \",Ibestafterlocal)\n",
    "print(\"estimated Imax value after second local minimization: \",Ibest)\n",
    "print(\"upper bound: \", d*h(t/d))"
   ]
  },
  {
   "cell_type": "code",
   "execution_count": 54,
   "id": "3fe33745-5f1f-478c-8934-473e2fce1720",
   "metadata": {},
   "outputs": [
    {
     "data": {
      "text/plain": [
       "array([[ 1.e+00+0.j,  0.e+00+0.j,  0.e+00-0.j,  0.e+00-0.j,  0.e+00-0.j],\n",
       "       [ 0.e+00-0.j,  1.e+00+0.j,  1.e-14+0.j,  0.e+00+0.j, -0.e+00-0.j],\n",
       "       [ 0.e+00+0.j,  1.e-14-0.j,  1.e+00+0.j, -0.e+00-0.j, -0.e+00-0.j],\n",
       "       [ 0.e+00+0.j,  0.e+00-0.j, -0.e+00+0.j,  1.e+00+0.j,  0.e+00-0.j],\n",
       "       [ 0.e+00+0.j, -0.e+00+0.j, -0.e+00+0.j,  0.e+00+0.j,  1.e+00+0.j]])"
      ]
     },
     "execution_count": 54,
     "metadata": {},
     "output_type": "execute_result"
    }
   ],
   "source": [
    "#unitarity check\n",
    "Ubestdag=np.conjugate(Ubest.T)\n",
    "np.matmul(Ubest,Ubestdag).round(14)"
   ]
  },
  {
   "cell_type": "code",
   "execution_count": 67,
   "id": "69ab9aa0-da85-4a2a-bf74-ece5e6021931",
   "metadata": {},
   "outputs": [
    {
     "name": "stdout",
     "output_type": "stream",
     "text": [
      "vbest:  [0.539999 0.54     0.54     0.540001 0.540001]\n",
      "vconj:  [0.54 0.54 0.54 0.54 0.54]\n",
      "\n",
      "Estimated Imax value:  4.976892194095824\n",
      "Conjectured Imax value:  4.976892194101128\n",
      "\n",
      "Conjecture not violated; difference is  5.304201522449148e-12\n"
     ]
    }
   ],
   "source": [
    "#check conjectures:\n",
    "vbest=np.sort(vvector(w,Ubest))\n",
    "print(\"vbest: \",vbest.round(6))\n",
    "print(\"vconj: \",vconj.round(6))\n",
    "\n",
    "print(\"\\nEstimated Imax value: \",Ibest)\n",
    "print(\"Conjectured Imax value: \",Iconj)\n",
    "diff=Iconj-Ibest\n",
    "if diff<0:\n",
    "    print(\"\\nConjecture is wrong!\")\n",
    "else:\n",
    "    print(\"\\nConjecture not violated; difference is \", diff)"
   ]
  },
  {
   "cell_type": "code",
   "execution_count": 46,
   "id": "3b118f5d-c034-4024-8d64-5931c74d2e71",
   "metadata": {},
   "outputs": [
    {
     "name": "stdout",
     "output_type": "stream",
     "text": [
      "Finished!\n"
     ]
    }
   ],
   "source": [
    "print(\"Finished!\")"
   ]
  },
  {
   "cell_type": "code",
   "execution_count": 47,
   "id": "826b727c-cb9c-4f4c-bd0b-53e7800c9715",
   "metadata": {},
   "outputs": [],
   "source": [
    "for k in range(mmm):\n",
    "    deltaU=unitaryclosetoid(epsilon2)\n",
    "    U = np.matmul(Ubest,deltaU) #unitary close to Ubest\n",
    "    v=vvector(w,U)\n",
    "    I=H(v)\n",
    "    if I>Ibest:\n",
    "        Ibest=np.copy(I)\n",
    "        Ubest=np.copy(U)"
   ]
  },
  {
   "cell_type": "code",
   "execution_count": 49,
   "id": "6081ccc9-1e93-4fe7-938d-971a896039d6",
   "metadata": {},
   "outputs": [
    {
     "data": {
      "text/plain": [
       "array([0.54, 0.54, 0.54, 0.54, 0.54])"
      ]
     },
     "execution_count": 49,
     "metadata": {},
     "output_type": "execute_result"
    }
   ],
   "source": [
    "vbest=np.sort(vvector(w,Ubest))\n",
    "vbest.round(5)"
   ]
  },
  {
   "cell_type": "code",
   "execution_count": 39,
   "id": "8f983e9c-2000-401d-8cf9-320623973c08",
   "metadata": {},
   "outputs": [],
   "source": [
    "kaustav=np.array([0.554 , 0.5551, 0.5252, 0.5499, 0.5158])"
   ]
  },
  {
   "cell_type": "code",
   "execution_count": 40,
   "id": "adf9f3b3-5adf-4e96-b5ec-82ed600fd42a",
   "metadata": {},
   "outputs": [
    {
     "data": {
      "text/plain": [
       "0.003527542218146884"
      ]
     },
     "execution_count": 40,
     "metadata": {},
     "output_type": "execute_result"
    }
   ],
   "source": [
    "H(vbest)-H(kaustav)"
   ]
  },
  {
   "cell_type": "code",
   "execution_count": 41,
   "id": "81bdb5bb-0430-4284-803a-00de1a861b62",
   "metadata": {},
   "outputs": [
    {
     "data": {
      "text/plain": [
       "array(4.97656925)"
      ]
     },
     "execution_count": 41,
     "metadata": {},
     "output_type": "execute_result"
    }
   ],
   "source": [
    "Ibest"
   ]
  },
  {
   "cell_type": "code",
   "execution_count": 55,
   "id": "f8044901-d5c7-4f94-976c-3b4237dc8615",
   "metadata": {},
   "outputs": [
    {
     "data": {
      "text/plain": [
       "array([0.54000074, 0.53999957, 0.53999924, 0.54000068, 0.53999977])"
      ]
     },
     "execution_count": 55,
     "metadata": {},
     "output_type": "execute_result"
    }
   ],
   "source": [
    "vvector(w,Ubest)"
   ]
  },
  {
   "cell_type": "code",
   "execution_count": 51,
   "id": "927e850e-a2e2-42cc-9923-c7f686e02677",
   "metadata": {},
   "outputs": [],
   "source": [
    "for k in range(100000):\n",
    "    deltaU=unitaryclosetoid(0.00001)\n",
    "    U = np.matmul(Ubest,deltaU) #unitary close to Ubest\n",
    "    v=vvector(w,U)\n",
    "    I=H(v)\n",
    "    if I>Ibest:\n",
    "        Ibest=np.copy(I)\n",
    "        Ubest=np.copy(U)"
   ]
  },
  {
   "cell_type": "code",
   "execution_count": 57,
   "id": "7fd92406-865d-41dc-b5ba-1df372b11bf7",
   "metadata": {},
   "outputs": [
    {
     "data": {
      "text/plain": [
       "array([0.2, 0.3, 0.7, 0.7, 0.8])"
      ]
     },
     "execution_count": 57,
     "metadata": {},
     "output_type": "execute_result"
    }
   ],
   "source": [
    "w"
   ]
  },
  {
   "cell_type": "code",
   "execution_count": 61,
   "id": "43283c98-7507-4d7f-9203-baae5c204761",
   "metadata": {},
   "outputs": [
    {
     "data": {
      "text/plain": [
       "array(3)"
      ]
     },
     "execution_count": 61,
     "metadata": {},
     "output_type": "execute_result"
    }
   ],
   "source": [
    "a=3\n",
    "b=0.\n",
    "b=np.copy(a)\n",
    "b"
   ]
  },
  {
   "cell_type": "code",
   "execution_count": 63,
   "id": "d0a7326f-0fd0-45b3-baf2-db264bf64d19",
   "metadata": {},
   "outputs": [
    {
     "data": {
      "text/plain": [
       "array([2, 3])"
      ]
     },
     "execution_count": 63,
     "metadata": {},
     "output_type": "execute_result"
    }
   ],
   "source": [
    "a=np.array([2,3])\n",
    "b=a[0]\n",
    "b=5\n",
    "a"
   ]
  },
  {
   "cell_type": "code",
   "execution_count": 68,
   "id": "b03a2bee-14f3-42d9-8cbc-b3228e3affa4",
   "metadata": {},
   "outputs": [
    {
     "name": "stdout",
     "output_type": "stream",
     "text": [
      "vbest:  [0.53999924 0.53999957 0.53999977 0.54000068 0.54000074]\n",
      "vconj:  [0.54 0.54 0.54 0.54 0.54]\n",
      "identity regime up to Imax accuracy  5.304201522449148e-12\n"
     ]
    }
   ],
   "source": [
    "print(\"vbest: \",vbest)\n",
    "print(\"vconj: \",vconj)\n",
    "print(\"identity regime up to Imax accuracy \",diff)"
   ]
  },
  {
   "cell_type": "code",
   "execution_count": null,
   "id": "68895b14-9df2-4f6d-b10e-53f499ecf92b",
   "metadata": {},
   "outputs": [],
   "source": []
  }
 ],
 "metadata": {
  "kernelspec": {
   "display_name": "Python 3 (ipykernel)",
   "language": "python",
   "name": "python3"
  },
  "language_info": {
   "codemirror_mode": {
    "name": "ipython",
    "version": 3
   },
   "file_extension": ".py",
   "mimetype": "text/x-python",
   "name": "python",
   "nbconvert_exporter": "python",
   "pygments_lexer": "ipython3",
   "version": "3.10.5"
  }
 },
 "nbformat": 4,
 "nbformat_minor": 5
}
