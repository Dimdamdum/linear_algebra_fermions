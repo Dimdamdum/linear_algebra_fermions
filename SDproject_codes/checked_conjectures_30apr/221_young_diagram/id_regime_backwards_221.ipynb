{
 "cells": [
  {
   "cell_type": "code",
   "execution_count": 388,
   "id": "7d2294ac-f07a-409b-ab06-3ba9f93d027c",
   "metadata": {},
   "outputs": [],
   "source": [
    "import numpy as np\n",
    "from scipy.stats import unitary_group\n",
    "from numpy import linalg as LA\n",
    "from scipy.linalg import block_diag\n",
    "from scipy.linalg import logm, expm\n",
    "import qiskit"
   ]
  },
  {
   "cell_type": "code",
   "execution_count": 402,
   "id": "e919a16b-cc19-4fae-84f3-469925a0151a",
   "metadata": {},
   "outputs": [],
   "source": [
    "#functions\n",
    "\n",
    "def rand(scale):\n",
    "    return scale*(np.random.rand()+np.random.rand()*1j-0.5-0.5j)\n",
    "\n",
    "def randmatrix(scale):\n",
    "    a=rand(scale)\n",
    "    b=rand(scale)\n",
    "    c=rand(scale)\n",
    "    d=rand(scale)\n",
    "    e=rand(scale)\n",
    "    f=rand(scale)\n",
    "    g=rand(scale)\n",
    "    h=rand(scale)\n",
    "    M=np.array([[0,0,a,b,c],[0,0,d,e,f],[a.conjugate(),d.conjugate(),0,0,g],[b.conjugate(),e.conjugate(),0,0,h],[c.conjugate(),f.conjugate(),g.conjugate(),h.conjugate(),0]])\n",
    "    return(M)\n",
    "\n",
    "def randomw():\n",
    "    d=5\n",
    "    w=np.array([np.random.rand(),np.random.rand(),np.random.rand(),np.random.rand(),np.random.rand()])\n",
    "    w=np.sort(w)\n",
    "    return(w-sum(w)/d)\n",
    "\n",
    "def conjidregime(w):\n",
    "    return(0>(w[1]+w[2])/2 and 0<(w[2]+w[3])/2 and 0>(w[0]+w[3])/2 and 0<(w[1]+w[4])/2)\n",
    "\n",
    "def newconjidregime(w): # added \"and w[1]<0 and w[3]>0\" in return\n",
    "    return(0>(w[1]+w[2])/2 and 0<(w[2]+w[3])/2 and 0>(w[0]+w[3])/2 and 0<(w[1]+w[4])/2 and w[1]<0 and w[3]>0)"
   ]
  },
  {
   "cell_type": "code",
   "execution_count": 215,
   "id": "b948ad14-c833-40a2-a7d5-69c7c8b67648",
   "metadata": {},
   "outputs": [
    {
     "name": "stdout",
     "output_type": "stream",
     "text": [
      "[[ 0.  +0.j    0.  +0.j   -0.17+0.12j  0.  +0.18j  0.09-0.18j]\n",
      " [ 0.  +0.j    0.  +0.j    0.07+0.23j  0.1 -0.21j -0.19+0.24j]\n",
      " [-0.17-0.12j  0.07-0.23j  0.  +0.j    0.  +0.j    0.16+0.1j ]\n",
      " [ 0.  -0.18j  0.1 +0.21j  0.  +0.j    0.  +0.j   -0.11+0.19j]\n",
      " [ 0.09+0.18j -0.19-0.24j  0.16-0.1j  -0.11-0.19j  0.  +0.j  ]] \n",
      "\n",
      "[-0.56161896 -0.22075349 -0.02098647  0.16239757  0.64096135]\n",
      "False \n",
      "\n",
      "[-0.+0.j  0.+0.j  0.+0.j  0.-0.j -0.+0.j]\n"
     ]
    },
    {
     "data": {
      "text/plain": [
       "array([[ 1.+0.j,  0.-0.j,  0.-0.j, -0.-0.j, -0.+0.j],\n",
       "       [ 0.+0.j,  1.+0.j, -0.+0.j,  0.-0.j, -0.-0.j],\n",
       "       [ 0.+0.j, -0.-0.j,  1.+0.j, -0.-0.j,  0.-0.j],\n",
       "       [-0.+0.j,  0.+0.j, -0.+0.j,  1.+0.j,  0.+0.j],\n",
       "       [-0.-0.j, -0.+0.j,  0.+0.j,  0.-0.j,  1.+0.j]])"
      ]
     },
     "execution_count": 215,
     "metadata": {},
     "output_type": "execute_result"
    }
   ],
   "source": [
    "#testing functions\n",
    "\n",
    "M=randmatrix(0.5)\n",
    "#M.T.conjugate()-M\n",
    "print(M.round(2), \"\\n\" )\n",
    "w=np.linalg.eigvalsh(M)\n",
    "print(w)\n",
    "\n",
    "#checking linalg.eig. Columns of the unitary np.linalg.eig(M)[1] are the eigenvectors of M\n",
    "\n",
    "evector=(np.linalg.eig(M)[1]).T[2]\n",
    "evalue=np.linalg.eig(M)[0][2]\n",
    "print((evalue*evector - np.matmul(M,evector) ).round(15))\n",
    "U=np.linalg.eig(M)[1]\n",
    "np.dot(U,U.T.conjugate()).round(15)"
   ]
  },
  {
   "cell_type": "code",
   "execution_count": 307,
   "id": "c62c0508-e7a4-4b35-8dae-4b4e04eae715",
   "metadata": {},
   "outputs": [
    {
     "name": "stdout",
     "output_type": "stream",
     "text": [
      "found  0  counterexamples\n"
     ]
    }
   ],
   "source": [
    "# start to test conjectures \n",
    "\n",
    "maxcount=1000000\n",
    "count=0\n",
    "countcounterex=0\n",
    "scale=0.5\n",
    "eps=0.0 #for small values you should always find counterexamples\n",
    "\n",
    "while count<maxcount:\n",
    "    M=randmatrix(scale)\n",
    "    w=np.linalg.eigvalsh(M)\n",
    "    diameter=w[4]-w[0] #otherwise it s not pauli compatible\n",
    "    if diameter<1:\n",
    "        count=count+1\n",
    "        if 0<(w[1]+w[2])/2+eps or 0>(w[2]+w[3])/2-eps:\n",
    "            countcounterex=countcounterex+1\n",
    "print(\"found \",countcounterex, \" counterexamples\")"
   ]
  },
  {
   "cell_type": "code",
   "execution_count": 245,
   "id": "e22d9700-41b3-4b84-8a0a-11458eb2d230",
   "metadata": {},
   "outputs": [
    {
     "name": "stdout",
     "output_type": "stream",
     "text": [
      "[-0.35106016 -0.32999979  0.00477769  0.32488581  0.35139645]\n",
      "True\n",
      "True\n",
      "[-0.4083248  -0.37928511  0.02652062  0.364864    0.39622529]\n",
      "True\n",
      "True\n",
      "[-0.44152814 -0.42208167 -0.00299026  0.42105775  0.44554231]\n",
      "True\n",
      "True\n",
      "[-0.48463292 -0.45153442  0.0284852   0.44503238  0.46264976]\n",
      "True\n",
      "True\n",
      "[-0.40674303 -0.38638513 -0.0076374   0.38588198  0.41488358]\n",
      "True\n",
      "True\n",
      "[-0.33894206 -0.31380022 -0.00849663  0.32318656  0.33805235]\n",
      "True\n",
      "True\n",
      "[-0.40812977 -0.38794511  0.00453277  0.38738023  0.40416187]\n",
      "True\n",
      "True\n",
      "[-0.4749514  -0.43981248  0.01266845  0.4333182   0.46877723]\n",
      "True\n",
      "True\n",
      "[-0.43864409 -0.40937903  0.02036031  0.41084947  0.41681334]\n",
      "True\n",
      "True\n",
      "found  9  counterexamples\n"
     ]
    }
   ],
   "source": [
    "# an idea i have is that if w[0] and w[1] and/or w[3] and w[4] are too close e.g. wrt diameter,\n",
    "#then max mixed v is not in the v-set\n",
    "#notice that if w[0], w[1] are close and w[3], w[4] are close then (w[1]+w[2])/2 < 0 < (w[2]+w[3])/2 follows wathever w[2] is\n",
    "\n",
    "maxcount=1000000\n",
    "count=0\n",
    "countcounterex=0\n",
    "scale=0.5\n",
    "ratio=0.04\n",
    "\n",
    "while count<maxcount:\n",
    "    M=randmatrix(scale)\n",
    "    w=np.linalg.eigvalsh(M)\n",
    "    diameter=w[4]-w[0] #otherwise it s not pauli compatible\n",
    "    if diameter<1:\n",
    "        count=count+1\n",
    "        if w[1]-w[0]<ratio*diameter and w[4]-w[3]<ratio*diameter:\n",
    "            countcounterex=countcounterex+1\n",
    "            print(w)\n",
    "            print((w[0]+w[3])/2<0)\n",
    "            print((w[1]+w[4])/2>0)\n",
    "print(\"found \",countcounterex, \" counterexamples\")"
   ]
  },
  {
   "cell_type": "code",
   "execution_count": 292,
   "id": "9874a8ae-57d2-41d0-a183-7dee66fb60b5",
   "metadata": {},
   "outputs": [
    {
     "name": "stdout",
     "output_type": "stream",
     "text": [
      "found  5  counterexamples\n"
     ]
    }
   ],
   "source": [
    "# ok based on previous box this could be the new inequalities!!\n",
    "\n",
    "maxcount=1000000\n",
    "count=0\n",
    "countcounterex=0\n",
    "scale=0.4\n",
    "eps=0.001 #for small values you should always find counterexamples\n",
    "\n",
    "while count<maxcount:\n",
    "    M=randmatrix(scale)\n",
    "    w=np.linalg.eigvalsh(M)\n",
    "    diameter=w[4]-w[0] #otherwise it s not pauli compatible\n",
    "    if diameter<1:\n",
    "        count=count+1\n",
    "        if 0<(w[0]+w[3])/2+eps or 0>(w[1]+w[4])/2-eps:\n",
    "            countcounterex=countcounterex+1\n",
    "print(\"found \",countcounterex, \" counterexamples\")"
   ]
  },
  {
   "cell_type": "code",
   "execution_count": 230,
   "id": "1106a21d-e78f-41cb-afae-9f27768ff1ee",
   "metadata": {},
   "outputs": [
    {
     "name": "stdout",
     "output_type": "stream",
     "text": [
      "[-0.45121596 -0.32996769  0.02132308  0.2765454   0.48331517] \n",
      "\n",
      "[[-0.03+0.14j  0.7 +0.j   -0.31-0.02j  0.32-0.25j  0.01+0.47j]\n",
      " [ 0.62+0.j   -0.02+0.1j  -0.33-0.08j -0.11-0.48j -0.39-0.32j]\n",
      " [ 0.18-0.4j  -0.2 +0.39j -0.38+0.17j  0.28+0.02j  0.59+0.j  ]\n",
      " [-0.3 -0.28j -0.27-0.48j -0.35+0.03j  0.52+0.j   -0.36-0.11j]\n",
      " [ 0.34-0.34j -0.  -0.05j  0.7 +0.j    0.44-0.22j -0.05+0.17j]]\n"
     ]
    }
   ],
   "source": [
    "# try to understand form of eigenvectors... patterns?\n",
    "\n",
    "M=randmatrix(scale)\n",
    "w=np.linalg.eigvalsh(M)\n",
    "if matfilter(w):\n",
    "    U=np.linalg.eig(M)[1]\n",
    "    print(w,\"\\n\")\n",
    "    print(U.round(2))\n"
   ]
  },
  {
   "cell_type": "code",
   "execution_count": 306,
   "id": "020aac67-9bc7-496b-9bec-bf464e85ff7e",
   "metadata": {},
   "outputs": [
    {
     "name": "stdout",
     "output_type": "stream",
     "text": [
      "found  17  counterexamples\n"
     ]
    }
   ],
   "source": [
    "# check conjecture on identity regime boundaries, first direction\n",
    "\n",
    "maxcount=1000000\n",
    "count=0\n",
    "countcounterex=0\n",
    "scale=0.4\n",
    "eps=0.001\n",
    "epsvec=np.array([eps,eps,eps,eps,eps])\n",
    "\n",
    "while count<maxcount:\n",
    "    M=randmatrix(scale)\n",
    "    w=np.linalg.eigvalsh(M)+epsvec\n",
    "    diameter=w[4]-w[0] #otherwise it s not pauli compatible\n",
    "    if diameter<1:\n",
    "        count=count+1\n",
    "        if conjidregime(w)==False:\n",
    "            countcounterex=countcounterex+1\n",
    "print(\"found \",countcounterex, \" counterexamples\")"
   ]
  },
  {
   "cell_type": "code",
   "execution_count": 399,
   "id": "b9b35850-4f04-487e-a58f-c5fb1b2c0d8c",
   "metadata": {},
   "outputs": [],
   "source": [
    "# check conjecture on identity regime boundaries, second direction. generate random w, check conjidregime,\n",
    "#and if true try to get close to it with spectra of randmatrix matrces. three steps\n",
    "\n",
    "#first step: generate numerical set\n",
    "\n",
    "#maxcount=1000\n",
    "count=0\n",
    "#countcounterex=0\n",
    "scale=0.5\n",
    "numtruepoints=1000000\n",
    "\n",
    "numset=[]\n",
    "while count < numtruepoints:\n",
    "    M=randmatrix(scale)\n",
    "    w=np.linalg.eigvalsh(M)\n",
    "    diameter=w[4]-w[0] #otherwise it s not pauli compatible\n",
    "    if diameter<1:\n",
    "        numset.append(w)\n",
    "        count=count+1"
   ]
  },
  {
   "cell_type": "code",
   "execution_count": 397,
   "id": "62e5835b-ecea-4f6f-a1ee-8cb511245d0b",
   "metadata": {},
   "outputs": [],
   "source": [
    "# second step: generate a smaller conjectured set\n",
    "\n",
    "#countcounterex=0\n",
    "scale=0.5\n",
    "numconjpoints=10\n",
    "distance=0.\n",
    "count=0\n",
    "\n",
    "#generate numerical set\n",
    "conjset=[]\n",
    "while count < numconjpoints:\n",
    "#control run. by filling conjset with  vectors which actually are in numset,\n",
    "#the list distances in next box is  filled with zeros provided we are doing large enough numbers\n",
    "    M=randmatrix(scale)\n",
    "    w=np.linalg.eigvalsh(M)\n",
    "    diameter=w[4]-w[0] #otherwise it s not pauli compatible\n",
    "    if diameter<1:\n",
    "        conjset.append(w)\n",
    "        count=count+1"
   ]
  },
  {
   "cell_type": "code",
   "execution_count": 400,
   "id": "010c3e54-4607-41c2-8193-c6ee7fcd76aa",
   "metadata": {},
   "outputs": [],
   "source": [
    "#actual run\n",
    "\n",
    "count=0\n",
    "conjset=[]\n",
    "while count < numconjpoints:\n",
    "    w=randomw()\n",
    "    if newconjidregime(w)==True:\n",
    "        conjset.append(w)\n",
    "        count=count+1\n",
    "#print(conjset)"
   ]
  },
  {
   "cell_type": "code",
   "execution_count": 401,
   "id": "ff99ed16-70d8-49a7-92c1-518b961edca6",
   "metadata": {},
   "outputs": [
    {
     "name": "stdout",
     "output_type": "stream",
     "text": [
      "[0.004972410635939002, 0.0042671907925267705, 0.009272291588375772, 0.003579655573170788, 0.03172745145674119, 0.02811984883049278, 0.03877116751070378, 0.028267537369379817, 0.011764589431356743, 0.015270179009059805]\n"
     ]
    }
   ],
   "source": [
    "#third step: check minimal distance of each  point of conjset from points of numset\n",
    "dist=100.\n",
    "newdist=100.\n",
    "distances=[]\n",
    "delta=np.zeros(5)\n",
    "for j in range(numconjpoints):\n",
    "    dist=100.\n",
    "    for k in range(numtruepoints):\n",
    "        delta = conjset[j]-numset[k]\n",
    "        newdist = np.linalg.norm(delta)\n",
    "        if newdist<dist:\n",
    "            dist=newdist\n",
    "    distances.append(dist)\n",
    "print(distances)"
   ]
  },
  {
   "cell_type": "code",
   "execution_count": 361,
   "id": "22440449-7bd7-4157-aa18-1d7c2d74a6c8",
   "metadata": {},
   "outputs": [
    {
     "data": {
      "text/plain": [
       "0.11811862879421998"
      ]
     },
     "execution_count": 361,
     "metadata": {},
     "output_type": "execute_result"
    }
   ],
   "source": [
    "distances[3]"
   ]
  },
  {
   "cell_type": "code",
   "execution_count": 373,
   "id": "4b1abcdc-cfd5-4166-83a4-d6a2be000885",
   "metadata": {},
   "outputs": [
    {
     "name": "stdout",
     "output_type": "stream",
     "text": [
      "0.13261994427112764\n"
     ]
    }
   ],
   "source": [
    "dist=100.\n",
    "newdist=100.\n",
    "for k in range(numtruepoints):\n",
    "    delta = critical-numset[k]\n",
    "    newdist = np.linalg.norm(delta)\n",
    "    if newdist<dist:\n",
    "        dist=newdist\n",
    "print(dist)"
   ]
  },
  {
   "cell_type": "code",
   "execution_count": 375,
   "id": "502ec150-cb4d-4c34-8c09-725df40d5dbf",
   "metadata": {},
   "outputs": [
    {
     "name": "stdout",
     "output_type": "stream",
     "text": [
      "[-0.12366249 -0.07573321 -0.04888961  0.10446614  0.14381918]\n"
     ]
    }
   ],
   "source": [
    "print(critical)"
   ]
  },
  {
   "cell_type": "code",
   "execution_count": 377,
   "id": "46e57ede-308b-4c6c-b22f-db602169804a",
   "metadata": {},
   "outputs": [
    {
     "data": {
      "text/plain": [
       "True"
      ]
     },
     "execution_count": 377,
     "metadata": {},
     "output_type": "execute_result"
    }
   ],
   "source": [
    "conjidregime(critical)"
   ]
  },
  {
   "cell_type": "code",
   "execution_count": 383,
   "id": "a7b982a3-7526-449e-abbe-a93f784cc51a",
   "metadata": {},
   "outputs": [
    {
     "ename": "KeyboardInterrupt",
     "evalue": "",
     "output_type": "error",
     "traceback": [
      "\u001b[0;31m---------------------------------------------------------------------------\u001b[0m",
      "\u001b[0;31mKeyboardInterrupt\u001b[0m                         Traceback (most recent call last)",
      "\u001b[0;32m/scratch-local/slurm-job-tmp-3758520/ipykernel_48/3063285993.py\u001b[0m in \u001b[0;36m<cell line: 5>\u001b[0;34m()\u001b[0m\n\u001b[1;32m      5\u001b[0m \u001b[0;32mwhile\u001b[0m \u001b[0mcount\u001b[0m \u001b[0;34m<\u001b[0m \u001b[0mnumtruepoints\u001b[0m\u001b[0;34m:\u001b[0m\u001b[0;34m\u001b[0m\u001b[0;34m\u001b[0m\u001b[0m\n\u001b[1;32m      6\u001b[0m     \u001b[0mM\u001b[0m\u001b[0;34m=\u001b[0m\u001b[0mrandmatrix\u001b[0m\u001b[0;34m(\u001b[0m\u001b[0mscale\u001b[0m\u001b[0;34m)\u001b[0m\u001b[0;34m\u001b[0m\u001b[0;34m\u001b[0m\u001b[0m\n\u001b[0;32m----> 7\u001b[0;31m     \u001b[0mw\u001b[0m\u001b[0;34m=\u001b[0m\u001b[0mnp\u001b[0m\u001b[0;34m.\u001b[0m\u001b[0mlinalg\u001b[0m\u001b[0;34m.\u001b[0m\u001b[0meigvalsh\u001b[0m\u001b[0;34m(\u001b[0m\u001b[0mM\u001b[0m\u001b[0;34m)\u001b[0m\u001b[0;34m\u001b[0m\u001b[0;34m\u001b[0m\u001b[0m\n\u001b[0m\u001b[1;32m      8\u001b[0m     \u001b[0mdiameter\u001b[0m\u001b[0;34m=\u001b[0m\u001b[0mw\u001b[0m\u001b[0;34m[\u001b[0m\u001b[0;36m4\u001b[0m\u001b[0;34m]\u001b[0m\u001b[0;34m-\u001b[0m\u001b[0mw\u001b[0m\u001b[0;34m[\u001b[0m\u001b[0;36m0\u001b[0m\u001b[0;34m]\u001b[0m \u001b[0;31m#otherwise it s not pauli compatible\u001b[0m\u001b[0;34m\u001b[0m\u001b[0;34m\u001b[0m\u001b[0m\n\u001b[1;32m      9\u001b[0m     \u001b[0;32mif\u001b[0m \u001b[0mdiameter\u001b[0m\u001b[0;34m<\u001b[0m\u001b[0;36m1\u001b[0m\u001b[0;34m:\u001b[0m\u001b[0;34m\u001b[0m\u001b[0;34m\u001b[0m\u001b[0m\n",
      "\u001b[0;32m/software/opt/focal/x86_64/python/3.10-2022.08/lib/python3.10/site-packages/numpy/core/overrides.py\u001b[0m in \u001b[0;36meigvalsh\u001b[0;34m(*args, **kwargs)\u001b[0m\n",
      "\u001b[0;32m/software/opt/focal/x86_64/python/3.10-2022.08/lib/python3.10/site-packages/numpy/linalg/linalg.py\u001b[0m in \u001b[0;36meigvalsh\u001b[0;34m(a, UPLO)\u001b[0m\n\u001b[1;32m   1161\u001b[0m     \u001b[0mt\u001b[0m\u001b[0;34m,\u001b[0m \u001b[0mresult_t\u001b[0m \u001b[0;34m=\u001b[0m \u001b[0m_commonType\u001b[0m\u001b[0;34m(\u001b[0m\u001b[0ma\u001b[0m\u001b[0;34m)\u001b[0m\u001b[0;34m\u001b[0m\u001b[0;34m\u001b[0m\u001b[0m\n\u001b[1;32m   1162\u001b[0m     \u001b[0msignature\u001b[0m \u001b[0;34m=\u001b[0m \u001b[0;34m'D->d'\u001b[0m \u001b[0;32mif\u001b[0m \u001b[0misComplexType\u001b[0m\u001b[0;34m(\u001b[0m\u001b[0mt\u001b[0m\u001b[0;34m)\u001b[0m \u001b[0;32melse\u001b[0m \u001b[0;34m'd->d'\u001b[0m\u001b[0;34m\u001b[0m\u001b[0;34m\u001b[0m\u001b[0m\n\u001b[0;32m-> 1163\u001b[0;31m     \u001b[0mw\u001b[0m \u001b[0;34m=\u001b[0m \u001b[0mgufunc\u001b[0m\u001b[0;34m(\u001b[0m\u001b[0ma\u001b[0m\u001b[0;34m,\u001b[0m \u001b[0msignature\u001b[0m\u001b[0;34m=\u001b[0m\u001b[0msignature\u001b[0m\u001b[0;34m,\u001b[0m \u001b[0mextobj\u001b[0m\u001b[0;34m=\u001b[0m\u001b[0mextobj\u001b[0m\u001b[0;34m)\u001b[0m\u001b[0;34m\u001b[0m\u001b[0;34m\u001b[0m\u001b[0m\n\u001b[0m\u001b[1;32m   1164\u001b[0m     \u001b[0;32mreturn\u001b[0m \u001b[0mw\u001b[0m\u001b[0;34m.\u001b[0m\u001b[0mastype\u001b[0m\u001b[0;34m(\u001b[0m\u001b[0m_realType\u001b[0m\u001b[0;34m(\u001b[0m\u001b[0mresult_t\u001b[0m\u001b[0;34m)\u001b[0m\u001b[0;34m,\u001b[0m \u001b[0mcopy\u001b[0m\u001b[0;34m=\u001b[0m\u001b[0;32mFalse\u001b[0m\u001b[0;34m)\u001b[0m\u001b[0;34m\u001b[0m\u001b[0;34m\u001b[0m\u001b[0m\n\u001b[1;32m   1165\u001b[0m \u001b[0;34m\u001b[0m\u001b[0m\n",
      "\u001b[0;31mKeyboardInterrupt\u001b[0m: "
     ]
    }
   ],
   "source": [
    "scale=0.4\n",
    "count=0\n",
    "dist=100.\n",
    "numtruepoints=500000\n",
    "while count < numtruepoints:\n",
    "    M=randmatrix(scale)\n",
    "    w=np.linalg.eigvalsh(M)\n",
    "    diameter=w[4]-w[0] #otherwise it s not pauli compatible\n",
    "    if diameter<1:\n",
    "        newdist = np.linalg.norm(delta)\n",
    "        if newdist<dist:\n",
    "            dist=newdist\n",
    "print(dist)"
   ]
  },
  {
   "cell_type": "code",
   "execution_count": 387,
   "id": "bfb92ed6-c5bb-4e22-ac76-6b703d9d2a51",
   "metadata": {},
   "outputs": [],
   "source": [
    "#a nasty w vector. i dont understand if it belongs to id regime. or are there more regimes?\n",
    "criticalw = np.array([0.07633751, 0.12426679, 0.15111039, 0.30446614, 0.34381918])"
   ]
  },
  {
   "cell_type": "code",
   "execution_count": 385,
   "id": "ad343f17-53e7-4e7c-af56-a25c305f28f1",
   "metadata": {},
   "outputs": [
    {
     "data": {
      "text/plain": [
       "0.09930461943197591"
      ]
     },
     "execution_count": 385,
     "metadata": {},
     "output_type": "execute_result"
    }
   ],
   "source": [
    "dist"
   ]
  },
  {
   "cell_type": "code",
   "execution_count": 411,
   "id": "0ca15207-0b54-466d-9d43-6689c6f56c2b",
   "metadata": {},
   "outputs": [
    {
     "data": {
      "text/plain": [
       "array([-0.12366249, -0.07573321, -0.04888961,  0.10446614,  0.14381918])"
      ]
     },
     "execution_count": 411,
     "metadata": {},
     "output_type": "execute_result"
    }
   ],
   "source": [
    "criticalw = np.array([0.07633751, 0.12426679, 0.15111039, 0.30446614, 0.34381918])\n",
    "crit=criticalw-sum(criticalw)/5\n",
    "crit"
   ]
  },
  {
   "cell_type": "code",
   "execution_count": null,
   "id": "2819a93b-47c9-4d9a-acf9-95eb68e9eeb2",
   "metadata": {},
   "outputs": [],
   "source": []
  }
 ],
 "metadata": {
  "kernelspec": {
   "display_name": "Python 3 (ipykernel)",
   "language": "python",
   "name": "python3"
  },
  "language_info": {
   "codemirror_mode": {
    "name": "ipython",
    "version": 3
   },
   "file_extension": ".py",
   "mimetype": "text/x-python",
   "name": "python",
   "nbconvert_exporter": "python",
   "pygments_lexer": "ipython3",
   "version": "3.10.5"
  }
 },
 "nbformat": 4,
 "nbformat_minor": 5
}
