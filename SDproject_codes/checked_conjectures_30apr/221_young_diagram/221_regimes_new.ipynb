{
 "cells": [
  {
   "cell_type": "code",
   "execution_count": 23,
   "id": "0eb6c94d",
   "metadata": {},
   "outputs": [],
   "source": [
    "import numpy as np\n",
    "from scipy.stats import unitary_group\n",
    "from numpy import linalg as LA\n",
    "from scipy.linalg import block_diag\n",
    "#from scipy.linalg import logm, expm\n",
    "import qiskit"
   ]
  },
  {
   "cell_type": "code",
   "execution_count": 42,
   "id": "c75e4d82-1387-4014-887c-45f3c95c092e",
   "metadata": {},
   "outputs": [],
   "source": [
    "d=5\n",
    "ws=[np.array([0.1,0.3,0.4,0.8/3,0.8/3]),np.array([0.4,0.4,0.4,0.4,0.4])]\n",
    "#print(gamma0s)"
   ]
  },
  {
   "cell_type": "code",
   "execution_count": 30,
   "id": "77f80c1a",
   "metadata": {},
   "outputs": [],
   "source": [
    "def h(xx):\n",
    "    x=np.real(xx)\n",
    "    return -x*np.log(x)-(1-x)*np.log(1-x)\n",
    "def H(v):\n",
    "    summ=0\n",
    "    for j in range(d):\n",
    "        summ=summ+h(v[j])\n",
    "    return summ\n",
    "\n",
    "#the following functions entail conjectures\n",
    "\n",
    "#def H1(w):\n",
    "#    v=...\n",
    "#    return H(v)\n",
    "\n",
    "def H2(w):\n",
    "    appo=(w[0]+w[3]+w[4])/3\n",
    "    appo2=(w[1]+w[2])/2\n",
    "    v=np.array([appo,appo,appo,appo2,appo2])\n",
    "    return H(v)\n",
    "def H3(w):\n",
    "    appo=(w[0]+w[1]+w[4])/3\n",
    "    appo2=(w[2]+w[3])/2\n",
    "    v=np.array([appo,appo,appo,appo2,appo2])\n",
    "    return H(v)\n",
    "\n",
    "#the following regime might never be there\n",
    "def H4(w):\n",
    "    appo=(w[0]+w[2]+w[4])/3\n",
    "    appo2=(w[1]+w[3])/2\n",
    "    v=np.array([appo,appo,appo,appo2,appo2])\n",
    "    return H(v)\n",
    "\n",
    "#the following fixes w[2]=w_3 and maximally mixes the other entries when possible (see (2 2 1) rules),\n",
    "#and returns 0 otherwise \n",
    "#def H5(w):\n",
    "#    t=sum(w)\n",
    "#    if ...:\n",
    "#        return(0)\n",
    "#    else:\n",
    "#        v=...\n",
    "#        return H(v)\n",
    "\n",
    "#the following fixes w[1]=w_2 and maximally mixes the other entries when possible (see (2 2 1) rules),\n",
    "#and returns 0 otherwise \n",
    "#......\n",
    "#before coding this check if it can ever happen!\n",
    "\n",
    "\n",
    "def Hmax(w):\n",
    "    return max([H2(w),H3(w),H4(w)])\n",
    "    "
   ]
  },
  {
   "cell_type": "code",
   "execution_count": 43,
   "id": "138f440e",
   "metadata": {},
   "outputs": [],
   "source": [
    "#now do numerical maximization to find Imax(w) values\n",
    "\n",
    "#number of unitaries\n",
    "n=100000\n",
    "\n",
    "traces=[sum(ws[j]) for j in range(len(ws))]\n",
    "gamma0s=[np.diag(ws[j]) for j in range(len(ws))]\n",
    "maxbounds=[d*h(sum(ws[j])/d) for j in range(len(ws))]\n",
    "\n",
    "vbests=[ws[j] for j in range(len(ws))]\n",
    "Imaxs=[0 for i in range(len(ws))]\n",
    "\n",
    "#prob better to allocate memory now...\n",
    "gamma=np.identity(d,dtype=complex)\n",
    "U=np.identity(d,dtype=complex)\n",
    "Udag=np.identity(d,dtype=complex)\n",
    "v=np.zeros(d,dtype=float)\n",
    "I=0.\n",
    "block1=np.identity(2,dtype=complex)\n",
    "block2=np.identity(2,dtype=complex)\n",
    "block1ev=np.zeros(2,dtype=complex)\n",
    "block2ev=np.zeros(2,dtype=complex)\n",
    "\n",
    "for j in range(n):\n",
    "    U=unitary_group.rvs(d)\n",
    "    Udag=np.transpose(np.conjugate(U))\n",
    "    #treat all vectors with the same unitary!\n",
    "    for k in range(len(ws)):\n",
    "        gamma=np.matmul(U,np.matmul(gamma0s[k],Udag))\n",
    "    #print(gamma.round(2))\n",
    "        block1=gamma[0:2,0:2]\n",
    "        block2=gamma[2:4,2:4]\n",
    "        block1ev=LA.eigvals(block1)\n",
    "        block2ev=LA.eigvals(block2)\n",
    "        v[0]=np.real(block1ev[0])\n",
    "        v[1]=np.real(block1ev[1])\n",
    "        v[2]=np.real(block2ev[0])\n",
    "        v[3]=np.real(block2ev[1])\n",
    "        v[4]=np.real(gamma[4][4])\n",
    "        I=H(v)\n",
    "        if I>Imaxs[k]:\n",
    "            for l in range(d):\n",
    "                vbests[k][l]=v[l]\n",
    "            Imaxs[k]=I\n",
    "for k in range(len(ws)):\n",
    "    vbests[k]=np.sort(vbests[k])"
   ]
  },
  {
   "cell_type": "code",
   "execution_count": 38,
   "id": "6643814e-672f-4760-ade4-266a207c8ae6",
   "metadata": {},
   "outputs": [
    {
     "data": {
      "text/plain": [
       "array([0.4, 0.4, 0.4, 0.4, 0.4])"
      ]
     },
     "execution_count": 38,
     "metadata": {},
     "output_type": "execute_result"
    }
   ],
   "source": [
    "#Now analysis of conjectures\n",
    "#for k in range(len(ws))\n",
    "#    if H1(ws[k])>Imaxs[k]\n",
    "#        print(...)"
   ]
  },
  {
   "cell_type": "code",
   "execution_count": 39,
   "id": "91ac17ad-ecbc-41c6-a684-c98ea0e1e23b",
   "metadata": {},
   "outputs": [
    {
     "data": {
      "text/plain": [
       "array([0.25527328, 0.26031281, 0.26557989, 0.27358055, 0.27858679])"
      ]
     },
     "execution_count": 39,
     "metadata": {},
     "output_type": "execute_result"
    }
   ],
   "source": [
    "vbests[0]\n"
   ]
  },
  {
   "cell_type": "code",
   "execution_count": 40,
   "id": "3e8400f9-b6ce-4311-930f-0ef03434e21b",
   "metadata": {},
   "outputs": [
    {
     "data": {
      "text/plain": [
       "[2.898652595281461, 3.365058335046283]"
      ]
     },
     "execution_count": 40,
     "metadata": {},
     "output_type": "execute_result"
    }
   ],
   "source": [
    "Imaxs"
   ]
  },
  {
   "cell_type": "code",
   "execution_count": 46,
   "id": "848a7476-0ef6-4a0c-9840-05212bda43df",
   "metadata": {},
   "outputs": [
    {
     "data": {
      "text/plain": [
       "0.001313947230318302"
      ]
     },
     "execution_count": 46,
     "metadata": {},
     "output_type": "execute_result"
    }
   ],
   "source": [
    "maxbounds[0]-Imaxs[0]"
   ]
  },
  {
   "cell_type": "code",
   "execution_count": null,
   "id": "f6180a40-7f52-409d-911a-d38944bbe6d7",
   "metadata": {},
   "outputs": [],
   "source": []
  }
 ],
 "metadata": {
  "kernelspec": {
   "display_name": "Python 3 (ipykernel)",
   "language": "python",
   "name": "python3"
  },
  "language_info": {
   "codemirror_mode": {
    "name": "ipython",
    "version": 3
   },
   "file_extension": ".py",
   "mimetype": "text/x-python",
   "name": "python",
   "nbconvert_exporter": "python",
   "pygments_lexer": "ipython3",
   "version": "3.10.5"
  }
 },
 "nbformat": 4,
 "nbformat_minor": 5
}
