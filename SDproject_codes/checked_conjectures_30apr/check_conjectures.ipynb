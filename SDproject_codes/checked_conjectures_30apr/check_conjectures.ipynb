{
 "cells": [
  {
   "cell_type": "code",
   "execution_count": 36,
   "id": "7d2294ac-f07a-409b-ab06-3ba9f93d027c",
   "metadata": {},
   "outputs": [],
   "source": [
    "import numpy as np\n",
    "from scipy.stats import unitary_group\n",
    "from numpy import linalg as LA\n",
    "from scipy.linalg import block_diag\n",
    "from scipy.linalg import logm, expm\n",
    "import qiskit"
   ]
  },
  {
   "cell_type": "code",
   "execution_count": 37,
   "id": "cb638c63-ef07-4836-92f7-87f35b8a52e4",
   "metadata": {},
   "outputs": [],
   "source": [
    "#functions\n",
    "def h(xx):\n",
    "    x=np.real(xx)\n",
    "    return -x*np.log2(x)-(1-x)*np.log2(1-x)\n",
    "def H(v):\n",
    "    summ=0\n",
    "    d=len(v)\n",
    "    for j in range(d):\n",
    "        summ=summ+h(v[j])\n",
    "    return summ\n",
    "#following function rotates gamma0=diag(w) with U, extract blocks wrt Y=(2,2,1), and returns block spectrum v\n",
    "def vvector(w,U):\n",
    "    gamma0=np.diag(w)\n",
    "    Udag=np.conjugate(U.T)\n",
    "    gamma=np.matmul(U,np.matmul(gamma0,Udag))\n",
    "    block1=gamma[0:2,0:2]\n",
    "    block2=gamma[2:4,2:4]\n",
    "    block1ev=LA.eigvals(block1)\n",
    "    block2ev=LA.eigvals(block2)\n",
    "    v=np.array([block1ev[0].real,block1ev[1].real,block2ev[0].real,block2ev[1].real,gamma[4][4].real])\n",
    "    return(v)\n",
    "\n",
    "#following function returns unitary epsilon close to identity\n",
    "def unitaryclosetoid(epsilon):\n",
    "    M = np.random.rand(d, d)-0.5 + 1j*np.random.rand(d, d)  # a (very basic) random complex matrix\n",
    "    A = (M - np.conj(M.T)) #make it antihermitian. eigenvalues are like between -3i and 3i...\n",
    "    deltaU=expm(epsilon*A) #unitary close to identity\n",
    "    return(deltaU)"
   ]
  },
  {
   "cell_type": "code",
   "execution_count": 38,
   "id": "c454258e-1fed-412d-9351-49b570470e2e",
   "metadata": {},
   "outputs": [
    {
     "name": "stdout",
     "output_type": "stream",
     "text": [
      "2nd regime\n"
     ]
    }
   ],
   "source": [
    "#some sorted w vectors for which a conjecture is there:\n",
    "\n",
    "ws=[np.array([0.06107393, 0.09195662, 0.17570817, 0.31671073, 0.79044988]),\n",
    " np.array([0.17141052, 0.1879521 , 0.19878319, 0.25597978, 0.72284858]),\n",
    " np.array([0.11720914, 0.58447904, 0.62896595, 0.67608258, 0.83311845]),\n",
    " np.array([0.05643196, 0.07543735, 0.08430196, 0.18567166, 0.76125603]),\n",
    " np.array([0.48612207, 0.51768943, 0.59436303, 0.61219746, 0.96326387]),\n",
    " np.array([0.01507189, 0.06700813, 0.09221116, 0.35646417, 0.67562343]),\n",
    " np.array([0.05992716, 0.11306935, 0.13708026, 0.27367042, 0.86992894]),\n",
    " np.array([0.03294419, 0.55511419, 0.82555108, 0.88060291, 0.99802625]),\n",
    " np.array([0.10149043, 0.40318086, 0.69534272, 0.69545063, 0.77544863]),\n",
    " np.array([0.10388813, 0.4801112 , 0.62125352, 0.6466061 , 0.85106515]),\n",
    " np.array([0.12499359, 0.394975  , 0.47638738, 0.52556822, 0.65358446]),\n",
    " np.array([0.07702118, 0.11036463, 0.20356913, 0.30515876, 0.67132918]),\n",
    " np.array([0.17428388, 0.37172466, 0.382868  , 0.38380627, 0.86961459])]\n",
    " \n",
    "\n",
    "#choose w vector\n",
    "#w=np.array([0.7,0.02,0.46,0.46,0.72])\n",
    "w=np.sort(ws[0])\n",
    "t=sum(w)\n",
    "d=len(w)\n",
    "haveconjecture=True\n",
    "if t/5<(w[1]+w[2])/2:\n",
    "    vconj=np.array([(w[1]+w[2])/2,(w[1]+w[2])/2,(w[0]+w[3]+w[4])/3,(w[0]+w[3]+w[4])/3,(w[0]+w[3]+w[4])/3,])\n",
    "    Iconj=H(vconj)\n",
    "    print(\"1st regime\")\n",
    "elif t/5>(w[2]+w[3])/2:\n",
    "    vconj=np.array([(w[2]+w[3])/2,(w[2]+w[3])/2,(w[0]+w[1]+w[4])/3,(w[0]+w[1]+w[4])/3,(w[0]+w[1]+w[4])/3,])\n",
    "    Iconj=H(vconj)\n",
    "    print(\"2nd regime\")\n",
    "else:\n",
    "    haveconjecture=False\n",
    "    print(\"unknown regime\")"
   ]
  },
  {
   "cell_type": "code",
   "execution_count": 39,
   "id": "9ce3c871-519e-4a29-bf45-6fc38e0486ac",
   "metadata": {
    "tags": []
   },
   "outputs": [],
   "source": [
    "#number of global unitaries\n",
    "m=500000\n",
    "#number of best global unitaries to keep on the 'podium'\n",
    "mpodium=30\n",
    "#number of close-to-identity unitaries\n",
    "mm=100000\n",
    "#decide how close to identity\n",
    "epsilon=0.001 #try carefully!\n",
    "#later inspection\n",
    "mmm=100000\n",
    "\n",
    "#allocate memory for some relevant variables\n",
    "#gamma0=np.diag(w)\n",
    "vbest=np.array([w[j] for j in range(d)])\n",
    "v=np.zeros(d)\n",
    "Ibest=0.\n",
    "I=0.\n",
    "Ubest=np.identity(d,dtype=complex)\n",
    "U=np.identity(d,dtype=complex)\n",
    "podium=[[0.,np.identity(d,dtype=complex)] for i in range(mpodium)] #will be filled with couples (I value, U)\n",
    "\n",
    "#global optimization\n",
    "for k in range(m):\n",
    "    U=unitary_group.rvs(d)\n",
    "    v=vvector(w,U)\n",
    "    I=H(v)\n",
    "    if I>podium[0][0]:\n",
    "        podium[0][0]=np.copy(I)\n",
    "        podium[0][1]=np.copy(U)\n",
    "        #order podium; best (I,U) is given by podium[-1]\n",
    "        podium = sorted(podium, key=lambda x: x[0])\n",
    "                               \n",
    "Ibestbeforelocal=podium[-1][0]\n",
    "\n",
    "#local optimization for each unitary on the podium\n",
    "deltaU=np.identity(d,dtype=complex)\n",
    "\n",
    "#!!! watch out! some a-posteriori check of UNITARITY OF Ubest should be done!!\n",
    "#Bc we are multiplying more and more unitaries... (how many?)\n",
    "#the errors add up, as opposed to what happens in the global maximization\n",
    "\n",
    "for k in range(mm):\n",
    "    deltaU=unitaryclosetoid(epsilon)\n",
    "    for l in range(mpodium): #treat  podium couples  (I,U) independently\n",
    "        U = np.matmul(podium[l][1],deltaU) #unitary close to podium[l][1]\n",
    "        v=vvector(w,U)\n",
    "        I=H(v)\n",
    "        if I>podium[l][0]:\n",
    "            podium[l][0]=np.copy(I)\n",
    "            podium[l][1]=np.copy(U)\n",
    "            \n",
    "#reorder podium            \n",
    "podium = sorted(podium, key=lambda x: x[0])\n",
    "# best among podium\n",
    "Ibest=np.copy(podium[-1][0])\n",
    "Ubest=np.copy(podium[-1][1])"
   ]
  },
  {
   "cell_type": "code",
   "execution_count": 40,
   "id": "3288456a-341a-4b1d-9da4-df5bacebe559",
   "metadata": {},
   "outputs": [
    {
     "name": "stdout",
     "output_type": "stream",
     "text": [
      "estimated Imax value after global minimization:  4.295699875739064\n",
      "estimated Imax value after local minimization:  4.2963585681080465\n",
      "upper bound:  4.325251880106437\n"
     ]
    }
   ],
   "source": [
    "print(\"estimated Imax value after global minimization: \",Ibestbeforelocal)\n",
    "print(\"estimated Imax value after local minimization: \",Ibest)\n",
    "print(\"upper bound: \", d*h(t/d))"
   ]
  },
  {
   "cell_type": "code",
   "execution_count": 41,
   "id": "3aa0709c-a527-463d-86e9-b7f53d948676",
   "metadata": {},
   "outputs": [
    {
     "data": {
      "text/plain": [
       "array([[ 1.+0.j,  0.+0.j, -0.+0.j,  0.-0.j,  0.+0.j],\n",
       "       [ 0.-0.j,  1.+0.j, -0.+0.j,  0.+0.j,  0.+0.j],\n",
       "       [-0.-0.j, -0.-0.j,  1.+0.j, -0.-0.j,  0.-0.j],\n",
       "       [ 0.+0.j,  0.-0.j, -0.+0.j,  1.+0.j,  0.-0.j],\n",
       "       [ 0.-0.j,  0.-0.j,  0.+0.j,  0.+0.j,  1.-0.j]])"
      ]
     },
     "execution_count": 41,
     "metadata": {},
     "output_type": "execute_result"
    }
   ],
   "source": [
    "#unitarity check... ok ok it's fine at this stage\n",
    "Ubestdag=np.conjugate(Ubest.T)\n",
    "np.matmul(Ubest,Ubestdag).round(14)"
   ]
  },
  {
   "cell_type": "code",
   "execution_count": 42,
   "id": "92de8dbc-95b3-4e75-8e37-092cfb048db6",
   "metadata": {},
   "outputs": [
    {
     "name": "stdout",
     "output_type": "stream",
     "text": [
      "Out of  30  couples (I,U) on the podium, the first  1  couples are close to the winner couple\n"
     ]
    }
   ],
   "source": [
    "count=0\n",
    "for j in range(mpodium):\n",
    "    if Ibest-podium[j][0]<0.0001:\n",
    "        count=count+1\n",
    "print(\"Out of \", mpodium, \" couples (I,U) on the podium, the first \",count, \" couples are close to the winner couple\")"
   ]
  },
  {
   "cell_type": "code",
   "execution_count": 43,
   "id": "ab8a86ac-4761-4ebf-9395-152fb74639eb",
   "metadata": {},
   "outputs": [],
   "source": [
    "#assuming the winner Ubest is actually good, one can push the local maximization even further to get more digits\n",
    "#unitarity check in the end could be more important than before as you multiply more and more unitaries\n",
    "\n",
    "#mmm=10000\n",
    "epsilon=0.00001\n",
    "\n",
    "for k in range(mmm):\n",
    "    deltaU=unitaryclosetoid(epsilon)\n",
    "    U = np.matmul(Ubest,deltaU) #unitary close to Ubest\n",
    "    v=vvector(w,U)\n",
    "    I=H(v)\n",
    "    if I>Ibest:\n",
    "        Ibest=np.copy(I)\n",
    "        Ubest=np.copy(U)"
   ]
  },
  {
   "cell_type": "code",
   "execution_count": 44,
   "id": "7ea59a03-4c08-45dc-81c5-713bf8c3f71b",
   "metadata": {},
   "outputs": [
    {
     "name": "stdout",
     "output_type": "stream",
     "text": [
      "estimated Imax value after further local minimization:  4.296358740935817\n",
      "upper bound:  4.325251880106437\n"
     ]
    }
   ],
   "source": [
    "print(\"estimated Imax value after further local minimization: \",Ibest)\n",
    "print(\"upper bound: \", d*h(t/d))"
   ]
  },
  {
   "cell_type": "code",
   "execution_count": 45,
   "id": "3fe33745-5f1f-478c-8934-473e2fce1720",
   "metadata": {},
   "outputs": [
    {
     "data": {
      "text/plain": [
       "array([[ 1.+0.j,  0.+0.j, -0.+0.j,  0.-0.j,  0.+0.j],\n",
       "       [ 0.-0.j,  1.+0.j, -0.+0.j,  0.+0.j,  0.+0.j],\n",
       "       [-0.-0.j, -0.-0.j,  1.+0.j, -0.-0.j,  0.-0.j],\n",
       "       [ 0.+0.j,  0.-0.j, -0.+0.j,  1.+0.j,  0.-0.j],\n",
       "       [-0.-0.j,  0.-0.j,  0.+0.j,  0.+0.j,  1.-0.j]])"
      ]
     },
     "execution_count": 45,
     "metadata": {},
     "output_type": "execute_result"
    }
   ],
   "source": [
    "#unitarity check...also fine\n",
    "Ubestdag=np.conjugate(Ubest.T)\n",
    "np.matmul(Ubest,Ubestdag).round(14)"
   ]
  },
  {
   "cell_type": "code",
   "execution_count": 46,
   "id": "42aba89e-cfb2-4ea3-aeaf-4565068986db",
   "metadata": {},
   "outputs": [
    {
     "name": "stdout",
     "output_type": "stream",
     "text": [
      "estimated Imax value after further local minimization:  4.296358740935817\n",
      "conjectured value:  4.305307034935393\n",
      "Conjecture could be true: difference is  0.008948293999575974\n",
      "\n",
      " vbest  [0.2237   0.256072 0.313807 0.31803  0.324291]\n",
      "vconj  [0.246209 0.246209 0.314493 0.314493 0.314493]\n"
     ]
    }
   ],
   "source": [
    "#check conjecture, if any\n",
    "if haveconjecture==True:\n",
    "    print(\"estimated Imax value after further local minimization: \",Ibest)\n",
    "    print(\"conjectured value: \",Iconj)\n",
    "    diff=Iconj-Ibest\n",
    "    if diff<0:\n",
    "        print(\"Conjecture is wrong!\")\n",
    "    else:\n",
    "        print(\"Conjecture could be true: difference is \", diff)\n",
    "vbest=np.sort(vvector(w,Ubest))\n",
    "vconj=np.sort(vconj)\n",
    "print(\"\\n vbest \",vbest.round(6))\n",
    "print(\"vconj \",vconj.round(6))"
   ]
  },
  {
   "cell_type": "code",
   "execution_count": 35,
   "id": "66f56345-9bca-4840-944b-79d9cf44a4e3",
   "metadata": {},
   "outputs": [],
   "source": [
    "##########################################################"
   ]
  },
  {
   "cell_type": "code",
   "execution_count": 13,
   "id": "f6eef672-002b-4455-8bc4-b711f9152195",
   "metadata": {},
   "outputs": [
    {
     "data": {
      "text/plain": [
       "4.292993663264236"
      ]
     },
     "execution_count": 13,
     "metadata": {},
     "output_type": "execute_result"
    }
   ],
   "source": [
    "gamma=np.matmul(np.matmul(Ubest,np.diag(w)),Ubestdag)\n",
    "block1=gamma[0:2,0:2]\n",
    "block2=gamma[2:4,2:4]\n",
    "block1ev=LA.eigvals(block1)\n",
    "block2ev=LA.eigvals(block2)\n",
    "v=np.array([block1ev[0].real,block1ev[1].real,block2ev[0].real,block2ev[1].real,gamma[4][4].real])\n",
    "t=sum(w)\n",
    "H(v)"
   ]
  },
  {
   "cell_type": "code",
   "execution_count": null,
   "id": "34b35330-6d23-412c-b3e8-cf8c59f97648",
   "metadata": {},
   "outputs": [],
   "source": []
  }
 ],
 "metadata": {
  "kernelspec": {
   "display_name": "Python 3 (ipykernel)",
   "language": "python",
   "name": "python3"
  },
  "language_info": {
   "codemirror_mode": {
    "name": "ipython",
    "version": 3
   },
   "file_extension": ".py",
   "mimetype": "text/x-python",
   "name": "python",
   "nbconvert_exporter": "python",
   "pygments_lexer": "ipython3",
   "version": "3.10.5"
  }
 },
 "nbformat": 4,
 "nbformat_minor": 5
}
