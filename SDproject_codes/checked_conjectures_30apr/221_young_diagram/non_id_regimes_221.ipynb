{
 "cells": [
  {
   "cell_type": "code",
   "execution_count": 3,
   "id": "7d2294ac-f07a-409b-ab06-3ba9f93d027c",
   "metadata": {},
   "outputs": [],
   "source": [
    "import numpy as np\n",
    "from scipy.stats import unitary_group\n",
    "from numpy import linalg as LA\n",
    "from scipy.linalg import block_diag\n",
    "from scipy.linalg import logm, expm\n",
    "import qiskit"
   ]
  },
  {
   "cell_type": "code",
   "execution_count": 97,
   "id": "e919a16b-cc19-4fae-84f3-469925a0151a",
   "metadata": {},
   "outputs": [],
   "source": [
    "#functions\n",
    "\n",
    "def rand(scale):\n",
    "    return scale*(np.random.rand()+np.random.rand()*1j-0.5-0.5j)\n",
    "\n",
    "def randmatrix(scale):\n",
    "    a=rand(scale)\n",
    "    b=rand(scale)\n",
    "    c=rand(scale)\n",
    "    d=rand(scale)\n",
    "    e=rand(scale)\n",
    "    f=rand(scale)\n",
    "    g=rand(scale)\n",
    "    h=rand(scale)\n",
    "    M=np.array([[0,0,a,b,c],[0,0,d,e,f],[a.conjugate(),d.conjugate(),0,0,g],[b.conjugate(),e.conjugate(),0,0,h],[c.conjugate(),f.conjugate(),g.conjugate(),h.conjugate(),0]])\n",
    "    return(M)\n",
    "\n",
    "def randomw():\n",
    "    d=5\n",
    "    w=np.array([np.random.rand(),np.random.rand(),np.random.rand(),np.random.rand(),np.random.rand()])\n",
    "    w=np.sort(w)\n",
    "    return(w-sum(w)/d)\n",
    "\n",
    "def conjidregime(w):\n",
    "    return(0>(w[1]+w[2])/2 and 0<(w[2]+w[3])/2 and 0>(w[0]+w[3])/2 and 0<(w[1]+w[4])/2 and w[1]<0 and w[3]>0)"
   ]
  },
  {
   "cell_type": "code",
   "execution_count": 5,
   "id": "502ec150-cb4d-4c34-8c09-725df40d5dbf",
   "metadata": {},
   "outputs": [],
   "source": [
    "w=np.array([0.07742762, 0.09840953, 0.72567301, 0.80270683, 0.80799754])\n",
    "av=sum(w)/5"
   ]
  },
  {
   "cell_type": "code",
   "execution_count": 6,
   "id": "2f382fde-62eb-44fe-8c30-fb05e9c24f31",
   "metadata": {},
   "outputs": [
    {
     "data": {
      "text/plain": [
       "False"
      ]
     },
     "execution_count": 6,
     "metadata": {},
     "output_type": "execute_result"
    }
   ],
   "source": [
    "av<(w[0]+w[3])/2"
   ]
  },
  {
   "cell_type": "code",
   "execution_count": 7,
   "id": "4d04f9fb-ee27-4d66-bcbb-d8f22799e60a",
   "metadata": {},
   "outputs": [
    {
     "data": {
      "text/plain": [
       "True"
      ]
     },
     "execution_count": 7,
     "metadata": {},
     "output_type": "execute_result"
    }
   ],
   "source": [
    "av>(w[1]+w[4])/2"
   ]
  },
  {
   "cell_type": "code",
   "execution_count": 15,
   "id": "af680782-5438-4e37-9dba-0e5a81c7c6d0",
   "metadata": {},
   "outputs": [
    {
     "name": "stdout",
     "output_type": "stream",
     "text": [
      "[-0.00875271 -0.01104416  0.01550235  0.00239708  0.00189743]\n"
     ]
    }
   ],
   "source": [
    "a=(w[0]+w[3])/2\n",
    "b=(w[1]+w[2]+w[4])/3\n",
    "vconj=np.array([a,a,b,b,b])\n",
    "vbest=np.array([0.44881994, 0.45111139, 0.52852434, 0.54162961, 0.54212926])\n",
    "print(vconj-vbest)"
   ]
  },
  {
   "cell_type": "code",
   "execution_count": 71,
   "id": "100fc599-ca36-4dbd-b149-ff816fba6603",
   "metadata": {},
   "outputs": [],
   "source": [
    "def regime(w):\n",
    "    av=sum(w)/5\n",
    "    if av<(w[1]+w[2])/2:\n",
    "        return(1)\n",
    "    if av>(w[2]+w[3])/2:\n",
    "        return(2)\n",
    "    if av<(w[0]+w[3])/2:\n",
    "        return(3)\n",
    "    if av>(w[1]+w[4])/2:\n",
    "        return(4)\n",
    "    return(5)\n",
    "\n",
    "def randomw():\n",
    "    d=5\n",
    "    w=np.array([np.random.rand(),np.random.rand(),np.random.rand(),np.random.rand(),np.random.rand()])\n",
    "    w=np.sort(w)\n",
    "    return(w)\n",
    "\n",
    "def h(xx):\n",
    "    x=np.real(xx)\n",
    "    return -x*np.log2(x)-(1-x)*np.log2(1-x)\n",
    "def H(v):\n",
    "    summ=0\n",
    "    d=len(v)\n",
    "    for j in range(d):\n",
    "        summ=summ+h(v[j])\n",
    "    return summ\n",
    "\n",
    "def v1(w):\n",
    "    a=(w[1]+w[2])/2\n",
    "    b=(w[0]+w[3]+w[4])/3\n",
    "    v=np.array([a,a,b,b,b])\n",
    "    return(v)\n",
    "def v2(w):\n",
    "    a=(w[2]+w[3])/2\n",
    "    b=(w[0]+w[1]+w[4])/3\n",
    "    v=np.array([a,a,b,b,b])\n",
    "    return(v)\n",
    "def v3(w):\n",
    "    a=(w[0]+w[3])/2\n",
    "    b=(w[1]+w[2]+w[4])/3\n",
    "    v=np.array([a,a,b,b,b])\n",
    "    return(v)\n",
    "def v4(w):\n",
    "    a=(w[1]+w[4])/2\n",
    "    b=(w[0]+w[2]+w[3])/3\n",
    "    v=np.array([a,a,b,b,b])\n",
    "    return(v)"
   ]
  },
  {
   "cell_type": "code",
   "execution_count": 87,
   "id": "87a92133-db07-4ec1-9c9e-6d6cecc1ba08",
   "metadata": {},
   "outputs": [
    {
     "name": "stdout",
     "output_type": "stream",
     "text": [
      "[3618, 3668, 1416, 1298, 22624]\n",
      "True\n"
     ]
    }
   ],
   "source": [
    "countmax=10000\n",
    "count=0\n",
    "reg=0\n",
    "countreg=[0,0,0,0,0]\n",
    "check=True\n",
    "while count<countmax:\n",
    "    w=randomw()\n",
    "    reg=regime(w)\n",
    "    countreg[reg-1]=countreg[reg-1]+1\n",
    "    if reg < 5:\n",
    "        count=count+1\n",
    "        v=[v1(w),v2(w),v3(w),v4(w)]\n",
    "        Hvalues=[H(v[j]) for j in range(4)]\n",
    "\n",
    "        #print(reg, \"   \",np.argmax(Hvalues),np.argmax(Hvalues)+1==reg)\n",
    "        if np.argmax(Hvalues)+1!=reg:\n",
    "            check=False\n",
    "            \n",
    "print(countreg)\n",
    "print(check)"
   ]
  },
  {
   "cell_type": "code",
   "execution_count": 30,
   "id": "fe2c38fa-0bd0-4765-adc1-4313dde857fc",
   "metadata": {},
   "outputs": [
    {
     "data": {
      "text/plain": [
       "3"
      ]
     },
     "execution_count": 30,
     "metadata": {},
     "output_type": "execute_result"
    }
   ],
   "source": [
    "np.argmax([1,3,2,4])"
   ]
  },
  {
   "cell_type": "code",
   "execution_count": 79,
   "id": "ca9f672f-e76c-4a52-96c7-4e3094496481",
   "metadata": {},
   "outputs": [
    {
     "data": {
      "text/plain": [
       "True"
      ]
     },
     "execution_count": 79,
     "metadata": {},
     "output_type": "execute_result"
    }
   ],
   "source": [
    "1!=2"
   ]
  },
  {
   "cell_type": "code",
   "execution_count": 95,
   "id": "991f1eb4-115f-43e8-837f-6c740bf5233a",
   "metadata": {},
   "outputs": [
    {
     "data": {
      "text/plain": [
       "5"
      ]
     },
     "execution_count": 95,
     "metadata": {},
     "output_type": "execute_result"
    }
   ],
   "source": [
    "critical=np.array([-0.12366249, -0.07573321, -0.04888961,  0.10446614,  0.14381918])\n",
    "critical=critical+.2\n",
    "regime(critical)"
   ]
  },
  {
   "cell_type": "code",
   "execution_count": 96,
   "id": "bbe70c1b-1635-46da-a524-7ed13a148f37",
   "metadata": {},
   "outputs": [
    {
     "data": {
      "text/plain": [
       "array([0.07633751, 0.12426679, 0.15111039, 0.30446614, 0.34381918])"
      ]
     },
     "execution_count": 96,
     "metadata": {},
     "output_type": "execute_result"
    }
   ],
   "source": [
    "critical"
   ]
  },
  {
   "cell_type": "code",
   "execution_count": null,
   "id": "6c4fb6cb-7626-4647-b5c4-96402b0ff9e8",
   "metadata": {},
   "outputs": [],
   "source": []
  }
 ],
 "metadata": {
  "kernelspec": {
   "display_name": "Python 3 (ipykernel)",
   "language": "python",
   "name": "python3"
  },
  "language_info": {
   "codemirror_mode": {
    "name": "ipython",
    "version": 3
   },
   "file_extension": ".py",
   "mimetype": "text/x-python",
   "name": "python",
   "nbconvert_exporter": "python",
   "pygments_lexer": "ipython3",
   "version": "3.10.5"
  }
 },
 "nbformat": 4,
 "nbformat_minor": 5
}
