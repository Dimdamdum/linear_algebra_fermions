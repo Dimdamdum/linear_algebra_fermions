{
 "cells": [
  {
   "cell_type": "code",
   "execution_count": 1,
   "id": "7d2294ac-f07a-409b-ab06-3ba9f93d027c",
   "metadata": {},
   "outputs": [],
   "source": [
    "import numpy as np\n",
    "from scipy.stats import unitary_group\n",
    "from numpy import linalg as LA\n",
    "from scipy.linalg import block_diag\n",
    "from scipy.linalg import logm, expm\n",
    "import qiskit"
   ]
  },
  {
   "cell_type": "code",
   "execution_count": 2,
   "id": "cb638c63-ef07-4836-92f7-87f35b8a52e4",
   "metadata": {},
   "outputs": [],
   "source": [
    "#define functions\n",
    "\n",
    "def h(xx):\n",
    "    x=np.real(xx)\n",
    "    return -x*np.log2(x)-(1-x)*np.log2(1-x)\n",
    "def H(v):\n",
    "    summ=0\n",
    "    d=len(v)\n",
    "    for j in range(d):\n",
    "        summ=summ+h(v[j])\n",
    "    return summ\n",
    "\n",
    "#rotates gamma0=diag(w) with U, extract blocks wrt Y=(2,2,1), and returns block spectrum v\n",
    "def vvector(w,U):\n",
    "    gamma0=np.diag(w)\n",
    "    Udag=np.conjugate(U.T)\n",
    "    gamma=np.matmul(U,np.matmul(gamma0,Udag))\n",
    "    block1=gamma[0:2,0:2]\n",
    "    block2=gamma[2:4,2:4]\n",
    "    block1ev=LA.eigvals(block1)\n",
    "    block2ev=LA.eigvals(block2)\n",
    "    v=np.array([block1ev[0].real,block1ev[1].real,block2ev[0].real,block2ev[1].real,gamma[4][4].real])\n",
    "    return(v)\n",
    "\n",
    "#returns a unitary epsilon-close to identity\n",
    "def unitaryclosetoid(epsilon):\n",
    "    M = np.random.rand(d, d)-0.5 + 1j*np.random.rand(d, d)  # a (very basic) random complex matrix\n",
    "    A = (M - np.conj(M.T)) #make it antihermitian. eigenvalues are like between -3i and 3i...\n",
    "    deltaU=expm(epsilon*A) #unitary close to identity\n",
    "    return(deltaU)\n",
    "\n",
    "#shrinks and improves a podium. call it as podium2=newpodium(w, podium1, ...)\n",
    "def newpodium(w,oldpodium,mnewpodium,localm,eps): #newmpodium = length of new podium; localm and eps = parameters for local maximization\n",
    "    podium=np.copy(oldpodium) #so as not to change oldpodium, just in case\n",
    "    deltaU=np.identity(d,dtype=complex)\n",
    "    U=np.identity(d,dtype=complex)\n",
    "    mpodium=len(podium)\n",
    "    v=np.zeros(d)\n",
    "    I=0.\n",
    "    for k in range(localm):\n",
    "        deltaU=unitaryclosetoid(eps)\n",
    "        for l in range(mpodium): #treat  podium couples  (I,U) independently\n",
    "            U = np.matmul(podium[l][1],deltaU) #unitary close to podium[l][1]\n",
    "            v=vvector(w,U)\n",
    "            I=H(v)\n",
    "            if I>podium[l][0]:\n",
    "                podium[l][0]=I\n",
    "                podium[l][1]=np.copy(U) \n",
    "    podium = sorted(podium, key=lambda x: x[0])\n",
    "    newpodium=[podium[-mnewpodium+j] for j in range(mnewpodium)]\n",
    "    return(newpodium)"
   ]
  },
  {
   "cell_type": "code",
   "execution_count": 3,
   "id": "c454258e-1fed-412d-9351-49b570470e2e",
   "metadata": {},
   "outputs": [
    {
     "name": "stdout",
     "output_type": "stream",
     "text": [
      "5th (identity) regime?\n"
     ]
    }
   ],
   "source": [
    "#choose w vector or generate it randomly and get vconj = conjectured value of vbest\n",
    "\n",
    "#w=np.array(np.array([0.07633751, 0.12426679, 0.15111039, 0.30446614, 0.34381918]))\n",
    "#e.g. [0.5, 0.5, 0.5, 0.8, 0.8] is an interesting one...or those from Kaustav's list\n",
    "w=np.array([np.random.rand(),np.random.rand(),np.random.rand(),np.random.rand(),np.random.rand()])  \n",
    "w=np.sort(w)\n",
    "t=sum(w)\n",
    "d=len(w)\n",
    "\n",
    "regime=0\n",
    "if t/5<(w[1]+w[2])/2:\n",
    "    a=(w[1]+w[2])/2\n",
    "    b=(w[0]+w[3]+w[4])/3\n",
    "    vconj=np.sort(np.array([a,a,b,b,b]))\n",
    "    Iconj=H(vconj)\n",
    "    regime=1\n",
    "    print(\"1st regime\")\n",
    "elif t/5>(w[2]+w[3])/2:\n",
    "    a=(w[2]+w[3])/2\n",
    "    b=(w[0]+w[1]+w[4])/3\n",
    "    vconj=np.sort(np.array([a,a,b,b,b]))\n",
    "    Iconj=H(vconj)\n",
    "    print(\"2nd regime\")\n",
    "    regime=2\n",
    "elif t/5<(w[0]+w[3])/2:\n",
    "    a=(w[0]+w[3])/2\n",
    "    b=(w[1]+w[2]+w[4])/3\n",
    "    vconj=np.sort(np.array([a,a,b,b,b]))\n",
    "    Iconj=H(vconj)\n",
    "    print(\"3rd regime\")\n",
    "    regime=3\n",
    "elif t/5>(w[1]+w[4])/2:\n",
    "    a=(w[1]+w[4])/2\n",
    "    b=(w[0]+w[2]+w[3])/3\n",
    "    vconj=np.sort(np.array([a,a,b,b,b]))\n",
    "    Iconj=H(vconj)\n",
    "    print(\"4th regime\")\n",
    "    regime=4\n",
    "else:\n",
    "    print(\"5th (identity) regime?\")\n",
    "    vconj=np.array([t/d,t/d,t/d,t/d,t/d])\n",
    "    Iconj=H(vconj)   \n",
    "    regime=5"
   ]
  },
  {
   "cell_type": "code",
   "execution_count": 4,
   "id": "9ade4db1-8b19-460f-81b0-0c99e7860b2e",
   "metadata": {},
   "outputs": [],
   "source": [
    "#set code parameters\n",
    "\n",
    "#number of global unitaries\n",
    "m=1000000 #still the main (?) bottleneck parameter.\n",
    "#looks like 10 mln is enough to \"fall close to global maximum\". after that local maximization is efficient (?)\n",
    "\n",
    "#number of best global unitaries to keep on the first 'podium'\n",
    "mpodium1=500\n",
    "#number of best unitaries to keep on the second 'podium'\n",
    "mpodium2=20\n",
    "#parameters for shortlisting first podium into second podium\n",
    "mlocal1=100 #number of close-to-identity unitaries \n",
    "epsilon1=0.05 #how close to identity\n",
    "#parameters for shortlisting second podium into winner\n",
    "mlocal2=30000\n",
    "epsilon2=0.0005 \n",
    "#parameters to further optimize winner\n",
    "mlocal3=100000\n",
    "epsilon3=0.0001\n",
    "mlocal4=100000\n",
    "epsilon4=0.000001\n",
    "\n",
    "#i tried to fine-tune the parameters above but probably their values can be improved. One might also\n",
    "#consider adding a third podium, i.e. one more step in the  box below...\n"
   ]
  },
  {
   "cell_type": "code",
   "execution_count": 5,
   "id": "9ce3c871-519e-4a29-bf45-6fc38e0486ac",
   "metadata": {
    "tags": []
   },
   "outputs": [
    {
     "name": "stderr",
     "output_type": "stream",
     "text": [
      "/software/opt/focal/x86_64/python/3.10-2022.08/lib/python3.10/site-packages/numpy/lib/function_base.py:935: VisibleDeprecationWarning: Creating an ndarray from ragged nested sequences (which is a list-or-tuple of lists-or-tuples-or ndarrays with different lengths or shapes) is deprecated. If you meant to do this, you must specify 'dtype=object' when creating the ndarray.\n",
      "  return array(a, order=order, subok=subok, copy=True)\n"
     ]
    },
    {
     "name": "stdout",
     "output_type": "stream",
     "text": [
      "Out of  20  couples (I,U) on the second podium, the first  1  couples are close to the first on 2nd podium\n"
     ]
    }
   ],
   "source": [
    "#run optimization\n",
    "\n",
    "#allocate memory for some relevant variables\n",
    "vbest=np.array([w[j] for j in range(d)])\n",
    "v=np.zeros(d)\n",
    "Ibest=0.\n",
    "I=0.\n",
    "Ubest=np.identity(d,dtype=complex)\n",
    "U=np.identity(d,dtype=complex)\n",
    "podium1=[[0.,np.identity(d,dtype=complex)] for i in range(mpodium1)] #will be filled with couples (I value, U)\n",
    "podium2=[[0.,np.identity(d,dtype=complex)] for i in range(mpodium2)]\n",
    "\n",
    "#step 0: global optimization\n",
    "for k in range(m):\n",
    "    U=unitary_group.rvs(d)\n",
    "    v=vvector(w,U)\n",
    "    I=H(v)\n",
    "    if I>podium1[0][0]:\n",
    "        podium1[0][0]=I\n",
    "        podium1[0][1]=np.copy(U)\n",
    "        #order podium1; best (I,U) is given by podium1[-1]\n",
    "        podium1 = sorted(podium1, key=lambda x: x[0])\n",
    "                               \n",
    "Ibest1=podium1[-1][0]\n",
    "\n",
    "#step 1: shrink podium1 to podium2\n",
    "\n",
    "podium2=np.copy(newpodium(w,podium1,mpodium2,mlocal1,epsilon1))\n",
    "Ibest2=podium2[-1][0]\n",
    "\n",
    "#the following count might have the following meaning: if the very first (2-5) unitaries on the podium2\n",
    "#are close to each other, it's a hint indicating that we are hopefully sampling enough. Instead, if the \n",
    "#winning unitary is far from the second unitary, this might indicate that we are not sampling enough\n",
    "#and that even the winning unitary might be stuck in a local minimum\n",
    "\n",
    "count=0\n",
    "for j in range(mpodium2):\n",
    "    if Ibest2-podium2[j][0]<0.0001:\n",
    "        count=count+1\n",
    "print(\"Out of \", mpodium2, \" couples (I,U) on the second podium, the first \",count, \" couples are close to the first on 2nd podium\")\n",
    " \n",
    "#step 2: shrink podium2 to podium3=winner\n",
    "\n",
    "winner=np.copy(newpodium(w,podium2,1,mlocal2,epsilon2))\n",
    "Ibest3=winner[0][0]\n",
    "\n",
    "\n",
    "#step 3: further local optimization\n",
    "#assuming the winner Ubest is actually good, one can push the local maximization even further to get more digits\n",
    "#we are shrinking podium 2 to a 1-position podium -> can still use function newpodium\n",
    "\n",
    "winner=np.copy(newpodium(w,winner,1,mlocal3,epsilon3))\n",
    "winner=np.copy(newpodium(w,winner,1,mlocal4,epsilon4))\n",
    "#here even more rounds sometimes help! \n",
    "#winner=np.copy(newpodium(w,winner,1,300000,0.000001))\n",
    "#winner=np.copy(newpodium(w,winner,1,300000,0.0000001))\n",
    "\n",
    "\n",
    "Ibest=winner[0][0]\n",
    "Ubest=np.copy(winner[0][1])"
   ]
  },
  {
   "cell_type": "code",
   "execution_count": 6,
   "id": "3288456a-341a-4b1d-9da4-df5bacebe559",
   "metadata": {},
   "outputs": [
    {
     "name": "stdout",
     "output_type": "stream",
     "text": [
      "estimated Imax value after step 0 = global minimization:  4.921541220284641\n",
      "estimated Imax value after step 1 = local minimization giving podium1 -> podium2:  4.936197833926501\n",
      "estimated Imax value after step 2 = local minimization giving podium 2 -> winner:  4.9405103346907255\n",
      "estimated Imax value after step 3 = local further minimization of winner:  4.940510372207425\n",
      "upper bound:  4.940510372207472\n"
     ]
    }
   ],
   "source": [
    "#print results\n",
    "\n",
    "print(\"estimated Imax value after step 0 = global minimization: \",Ibest1)\n",
    "print(\"estimated Imax value after step 1 = local minimization giving podium1 -> podium2: \",Ibest2)\n",
    "print(\"estimated Imax value after step 2 = local minimization giving podium 2 -> winner: \",Ibest3)\n",
    "print(\"estimated Imax value after step 3 = local further minimization of winner: \",Ibest)\n",
    "print(\"upper bound: \", d*h(t/d))"
   ]
  },
  {
   "cell_type": "code",
   "execution_count": 7,
   "id": "3fe33745-5f1f-478c-8934-473e2fce1720",
   "metadata": {},
   "outputs": [
    {
     "data": {
      "text/plain": [
       "array([[ 1.+0.j, -0.+0.j, -0.+0.j,  0.-0.j, -0.-0.j],\n",
       "       [-0.-0.j,  1.+0.j,  0.+0.j,  0.+0.j,  0.+0.j],\n",
       "       [-0.-0.j,  0.-0.j,  1.+0.j,  0.-0.j, -0.+0.j],\n",
       "       [ 0.+0.j,  0.-0.j,  0.+0.j,  1.+0.j,  0.+0.j],\n",
       "       [-0.+0.j,  0.-0.j, -0.-0.j,  0.-0.j,  1.+0.j]])"
      ]
     },
     "execution_count": 7,
     "metadata": {},
     "output_type": "execute_result"
    }
   ],
   "source": [
    "#unitarity check of Ubest\n",
    "\n",
    "#might be relevant because in local optimization we are multiplying unitaries together and errors might add up (not the case so far, luckily)\n",
    "Ubestdag=np.conjugate(Ubest.T)\n",
    "np.matmul(Ubest,Ubestdag).round(14)"
   ]
  },
  {
   "cell_type": "code",
   "execution_count": 8,
   "id": "f7c09690-7a63-45ec-b41c-662e143060c2",
   "metadata": {},
   "outputs": [
    {
     "name": "stdout",
     "output_type": "stream",
     "text": [
      "vbest:  [0.435874 0.435874 0.435874 0.435874 0.435874]\n",
      "vconj:  [0.435874 0.435874 0.435874 0.435874 0.435874]\n",
      "\n",
      "Estimated Imax value:  4.940510372207425\n",
      "Conjectured Imax value:  4.940510372207472\n",
      "\n",
      "Conjecture not violated; difference is  4.707345624410664e-14\n"
     ]
    }
   ],
   "source": [
    "#check conjecture\n",
    "\n",
    "vbest=np.sort(vvector(w,Ubest))\n",
    "print(\"vbest: \",vbest.round(6))\n",
    "print(\"vconj: \",vconj.round(6))\n",
    "\n",
    "print(\"\\nEstimated Imax value: \",Ibest)\n",
    "print(\"Conjectured Imax value: \",Iconj)\n",
    "diff=Iconj-Ibest\n",
    "if diff<0:\n",
    "    print(\"\\nConjecture is wrong!\")\n",
    "else:\n",
    "    print(\"\\nConjecture not violated; difference is \", diff)"
   ]
  },
  {
   "cell_type": "code",
   "execution_count": 9,
   "id": "87c32556-7eb2-4dbd-b55d-cc8af772e301",
   "metadata": {},
   "outputs": [
    {
     "name": "stdout",
     "output_type": "stream",
     "text": [
      "w : [0.07633751 0.12426679 0.15111039 0.30446614 0.34381918]\n",
      "vbest : [0.19007846 0.19362462 0.19927705 0.20562211 0.21139777]\n",
      "vconj : [0.2 0.2 0.2 0.2 0.2]\n",
      "lies within conjectured regime up to the Imax accuracy =  0.0013556497895006459\n"
     ]
    }
   ],
   "source": [
    "#recap\n",
    "\n",
    "print(\"w :\",w)\n",
    "print(\"vbest :\",vbest.round(9))\n",
    "print(\"vconj :\",vconj.round(9))\n",
    "print(\"lies within conjectured regime up to the Imax accuracy = \",diff)"
   ]
  },
  {
   "cell_type": "code",
   "execution_count": null,
   "id": "4b020cd8-12ba-4169-9d5a-9e29bdeac385",
   "metadata": {},
   "outputs": [],
   "source": [
    "print(\"Finished!\")"
   ]
  },
  {
   "cell_type": "code",
   "execution_count": 9,
   "id": "4e586ef7-52ad-4600-826e-eb1b000982cf",
   "metadata": {},
   "outputs": [
    {
     "data": {
      "text/plain": [
       "array([0.43587378, 0.43587388, 0.4358739 , 0.43587391, 0.43587395])"
      ]
     },
     "execution_count": 9,
     "metadata": {},
     "output_type": "execute_result"
    }
   ],
   "source": [
    "vbest"
   ]
  },
  {
   "cell_type": "code",
   "execution_count": null,
   "id": "34c1ef99-06f4-4408-92d7-156ffa38909b",
   "metadata": {},
   "outputs": [],
   "source": []
  }
 ],
 "metadata": {
  "kernelspec": {
   "display_name": "Python 3 (ipykernel)",
   "language": "python",
   "name": "python3"
  },
  "language_info": {
   "codemirror_mode": {
    "name": "ipython",
    "version": 3
   },
   "file_extension": ".py",
   "mimetype": "text/x-python",
   "name": "python",
   "nbconvert_exporter": "python",
   "pygments_lexer": "ipython3",
   "version": "3.10.5"
  }
 },
 "nbformat": 4,
 "nbformat_minor": 5
}
